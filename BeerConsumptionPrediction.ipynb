{
  "nbformat": 4,
  "nbformat_minor": 0,
  "metadata": {
    "colab": {
      "name": "BeerConsumptionPrediction.ipynb",
      "provenance": [],
      "collapsed_sections": []
    },
    "kernelspec": {
      "name": "python3",
      "display_name": "Python 3"
    },
    "language_info": {
      "name": "python"
    }
  },
  "cells": [
    {
      "cell_type": "markdown",
      "source": [
        "# Experiment protocol:\n",
        "- The dataset was divided into training and testing parts in the ratio 80:20, that means 80% of the database will be used for training and 20% for testing.\n",
        "- Predictions were based on beer amount and maximum temperature.\n",
        "- Preprocessing was required because the dataset contains a large number of null values after the year is over.\n",
        "- After removing null data, there were 365 data rows in the dataset, whereas the total amount was 366, which was considered a small loss.\n",
        "- Results were evaluated using the coefficient of determination and the mean error.\n",
        "\n",
        "<p>Dataset: Beer Consumption – Sao Paulo: https://www.kaggle.com/dongeorge/beer-consumption-sao-paulo </p>"
      ],
      "metadata": {
        "id": "50rc_a8dpBWT"
      }
    },
    {
      "cell_type": "markdown",
      "source": [
        "# Importing libraries"
      ],
      "metadata": {
        "id": "BTZUyBsSC8I_"
      }
    },
    {
      "cell_type": "code",
      "source": [
        "import numpy as np\n",
        "import pandas as pd\n",
        "import matplotlib.pyplot as plt\n",
        "import seaborn as sns"
      ],
      "metadata": {
        "id": "kaq73HvAC4pT"
      },
      "execution_count": 4,
      "outputs": []
    },
    {
      "cell_type": "markdown",
      "source": [
        "#Modifying chart parameters to better visualize the data\n"
      ],
      "metadata": {
        "id": "5bw3cguHyHbR"
      }
    },
    {
      "cell_type": "code",
      "source": [
        "params = {'legend.fontsize': 'x-large',\n",
        "          'figure.figsize': (15, 5),\n",
        "         'axes.labelsize': 'x-large',\n",
        "         'axes.titlesize':'x-large',\n",
        "         'xtick.labelsize':'x-large',\n",
        "         'ytick.labelsize':'x-large'}\n",
        "plt.rcParams.update(params)"
      ],
      "metadata": {
        "id": "AiYVvMITyJq9"
      },
      "execution_count": 5,
      "outputs": []
    },
    {
      "cell_type": "markdown",
      "source": [
        "# Importing the dataset:"
      ],
      "metadata": {
        "id": "XpT4jPB7Cv5K"
      }
    },
    {
      "cell_type": "markdown",
      "source": [
        "Some values are of object type and need to be treated."
      ],
      "metadata": {
        "id": "b-RR76Fgs8uY"
      }
    },
    {
      "cell_type": "code",
      "source": [
        "df = pd.read_csv('/content/sample_data/Consumo_cerveja.csv',sep=',',decimal=',') \n",
        "df.columns = ['Data', 'Temperatura Media (C)', 'Temperatura Minima (C)', 'Temperatura Maxima (C)', 'Precipitacao (mm)', 'Final de Semana', 'Consumo de cerveja (litros)']\n",
        "df"
      ],
      "metadata": {
        "colab": {
          "base_uri": "https://localhost:8080/",
          "height": 424
        },
        "id": "EHaN6dfNCzhK",
        "outputId": "6c285ffa-ed51-41b0-b675-99196da17221"
      },
      "execution_count": 6,
      "outputs": [
        {
          "output_type": "execute_result",
          "data": {
            "text/plain": [
              "           Data  Temperatura Media (C)  Temperatura Minima (C)  \\\n",
              "0    2015-01-01                  27.30                    23.9   \n",
              "1    2015-01-02                  27.02                    24.5   \n",
              "2    2015-01-03                  24.82                    22.4   \n",
              "3    2015-01-04                  23.98                    21.5   \n",
              "4    2015-01-05                  23.82                    21.0   \n",
              "..          ...                    ...                     ...   \n",
              "936         NaN                    NaN                     NaN   \n",
              "937         NaN                    NaN                     NaN   \n",
              "938         NaN                    NaN                     NaN   \n",
              "939         NaN                    NaN                     NaN   \n",
              "940         NaN                    NaN                     NaN   \n",
              "\n",
              "     Temperatura Maxima (C)  Precipitacao (mm)  Final de Semana  \\\n",
              "0                      32.5                0.0              0.0   \n",
              "1                      33.5                0.0              0.0   \n",
              "2                      29.9                0.0              1.0   \n",
              "3                      28.6                1.2              1.0   \n",
              "4                      28.3                0.0              0.0   \n",
              "..                      ...                ...              ...   \n",
              "936                     NaN                NaN              NaN   \n",
              "937                     NaN                NaN              NaN   \n",
              "938                     NaN                NaN              NaN   \n",
              "939                     NaN                NaN              NaN   \n",
              "940                     NaN                NaN              NaN   \n",
              "\n",
              "    Consumo de cerveja (litros)  \n",
              "0                        25.461  \n",
              "1                        28.972  \n",
              "2                        30.814  \n",
              "3                        29.799  \n",
              "4                        28.900  \n",
              "..                          ...  \n",
              "936                         NaN  \n",
              "937                         NaN  \n",
              "938                         NaN  \n",
              "939                         NaN  \n",
              "940                         NaN  \n",
              "\n",
              "[941 rows x 7 columns]"
            ],
            "text/html": [
              "\n",
              "  <div id=\"df-546bd06e-4762-4bfd-9f04-f4fc854a2efd\">\n",
              "    <div class=\"colab-df-container\">\n",
              "      <div>\n",
              "<style scoped>\n",
              "    .dataframe tbody tr th:only-of-type {\n",
              "        vertical-align: middle;\n",
              "    }\n",
              "\n",
              "    .dataframe tbody tr th {\n",
              "        vertical-align: top;\n",
              "    }\n",
              "\n",
              "    .dataframe thead th {\n",
              "        text-align: right;\n",
              "    }\n",
              "</style>\n",
              "<table border=\"1\" class=\"dataframe\">\n",
              "  <thead>\n",
              "    <tr style=\"text-align: right;\">\n",
              "      <th></th>\n",
              "      <th>Data</th>\n",
              "      <th>Temperatura Media (C)</th>\n",
              "      <th>Temperatura Minima (C)</th>\n",
              "      <th>Temperatura Maxima (C)</th>\n",
              "      <th>Precipitacao (mm)</th>\n",
              "      <th>Final de Semana</th>\n",
              "      <th>Consumo de cerveja (litros)</th>\n",
              "    </tr>\n",
              "  </thead>\n",
              "  <tbody>\n",
              "    <tr>\n",
              "      <th>0</th>\n",
              "      <td>2015-01-01</td>\n",
              "      <td>27.30</td>\n",
              "      <td>23.9</td>\n",
              "      <td>32.5</td>\n",
              "      <td>0.0</td>\n",
              "      <td>0.0</td>\n",
              "      <td>25.461</td>\n",
              "    </tr>\n",
              "    <tr>\n",
              "      <th>1</th>\n",
              "      <td>2015-01-02</td>\n",
              "      <td>27.02</td>\n",
              "      <td>24.5</td>\n",
              "      <td>33.5</td>\n",
              "      <td>0.0</td>\n",
              "      <td>0.0</td>\n",
              "      <td>28.972</td>\n",
              "    </tr>\n",
              "    <tr>\n",
              "      <th>2</th>\n",
              "      <td>2015-01-03</td>\n",
              "      <td>24.82</td>\n",
              "      <td>22.4</td>\n",
              "      <td>29.9</td>\n",
              "      <td>0.0</td>\n",
              "      <td>1.0</td>\n",
              "      <td>30.814</td>\n",
              "    </tr>\n",
              "    <tr>\n",
              "      <th>3</th>\n",
              "      <td>2015-01-04</td>\n",
              "      <td>23.98</td>\n",
              "      <td>21.5</td>\n",
              "      <td>28.6</td>\n",
              "      <td>1.2</td>\n",
              "      <td>1.0</td>\n",
              "      <td>29.799</td>\n",
              "    </tr>\n",
              "    <tr>\n",
              "      <th>4</th>\n",
              "      <td>2015-01-05</td>\n",
              "      <td>23.82</td>\n",
              "      <td>21.0</td>\n",
              "      <td>28.3</td>\n",
              "      <td>0.0</td>\n",
              "      <td>0.0</td>\n",
              "      <td>28.900</td>\n",
              "    </tr>\n",
              "    <tr>\n",
              "      <th>...</th>\n",
              "      <td>...</td>\n",
              "      <td>...</td>\n",
              "      <td>...</td>\n",
              "      <td>...</td>\n",
              "      <td>...</td>\n",
              "      <td>...</td>\n",
              "      <td>...</td>\n",
              "    </tr>\n",
              "    <tr>\n",
              "      <th>936</th>\n",
              "      <td>NaN</td>\n",
              "      <td>NaN</td>\n",
              "      <td>NaN</td>\n",
              "      <td>NaN</td>\n",
              "      <td>NaN</td>\n",
              "      <td>NaN</td>\n",
              "      <td>NaN</td>\n",
              "    </tr>\n",
              "    <tr>\n",
              "      <th>937</th>\n",
              "      <td>NaN</td>\n",
              "      <td>NaN</td>\n",
              "      <td>NaN</td>\n",
              "      <td>NaN</td>\n",
              "      <td>NaN</td>\n",
              "      <td>NaN</td>\n",
              "      <td>NaN</td>\n",
              "    </tr>\n",
              "    <tr>\n",
              "      <th>938</th>\n",
              "      <td>NaN</td>\n",
              "      <td>NaN</td>\n",
              "      <td>NaN</td>\n",
              "      <td>NaN</td>\n",
              "      <td>NaN</td>\n",
              "      <td>NaN</td>\n",
              "      <td>NaN</td>\n",
              "    </tr>\n",
              "    <tr>\n",
              "      <th>939</th>\n",
              "      <td>NaN</td>\n",
              "      <td>NaN</td>\n",
              "      <td>NaN</td>\n",
              "      <td>NaN</td>\n",
              "      <td>NaN</td>\n",
              "      <td>NaN</td>\n",
              "      <td>NaN</td>\n",
              "    </tr>\n",
              "    <tr>\n",
              "      <th>940</th>\n",
              "      <td>NaN</td>\n",
              "      <td>NaN</td>\n",
              "      <td>NaN</td>\n",
              "      <td>NaN</td>\n",
              "      <td>NaN</td>\n",
              "      <td>NaN</td>\n",
              "      <td>NaN</td>\n",
              "    </tr>\n",
              "  </tbody>\n",
              "</table>\n",
              "<p>941 rows × 7 columns</p>\n",
              "</div>\n",
              "      <button class=\"colab-df-convert\" onclick=\"convertToInteractive('df-546bd06e-4762-4bfd-9f04-f4fc854a2efd')\"\n",
              "              title=\"Convert this dataframe to an interactive table.\"\n",
              "              style=\"display:none;\">\n",
              "        \n",
              "  <svg xmlns=\"http://www.w3.org/2000/svg\" height=\"24px\"viewBox=\"0 0 24 24\"\n",
              "       width=\"24px\">\n",
              "    <path d=\"M0 0h24v24H0V0z\" fill=\"none\"/>\n",
              "    <path d=\"M18.56 5.44l.94 2.06.94-2.06 2.06-.94-2.06-.94-.94-2.06-.94 2.06-2.06.94zm-11 1L8.5 8.5l.94-2.06 2.06-.94-2.06-.94L8.5 2.5l-.94 2.06-2.06.94zm10 10l.94 2.06.94-2.06 2.06-.94-2.06-.94-.94-2.06-.94 2.06-2.06.94z\"/><path d=\"M17.41 7.96l-1.37-1.37c-.4-.4-.92-.59-1.43-.59-.52 0-1.04.2-1.43.59L10.3 9.45l-7.72 7.72c-.78.78-.78 2.05 0 2.83L4 21.41c.39.39.9.59 1.41.59.51 0 1.02-.2 1.41-.59l7.78-7.78 2.81-2.81c.8-.78.8-2.07 0-2.86zM5.41 20L4 18.59l7.72-7.72 1.47 1.35L5.41 20z\"/>\n",
              "  </svg>\n",
              "      </button>\n",
              "      \n",
              "  <style>\n",
              "    .colab-df-container {\n",
              "      display:flex;\n",
              "      flex-wrap:wrap;\n",
              "      gap: 12px;\n",
              "    }\n",
              "\n",
              "    .colab-df-convert {\n",
              "      background-color: #E8F0FE;\n",
              "      border: none;\n",
              "      border-radius: 50%;\n",
              "      cursor: pointer;\n",
              "      display: none;\n",
              "      fill: #1967D2;\n",
              "      height: 32px;\n",
              "      padding: 0 0 0 0;\n",
              "      width: 32px;\n",
              "    }\n",
              "\n",
              "    .colab-df-convert:hover {\n",
              "      background-color: #E2EBFA;\n",
              "      box-shadow: 0px 1px 2px rgba(60, 64, 67, 0.3), 0px 1px 3px 1px rgba(60, 64, 67, 0.15);\n",
              "      fill: #174EA6;\n",
              "    }\n",
              "\n",
              "    [theme=dark] .colab-df-convert {\n",
              "      background-color: #3B4455;\n",
              "      fill: #D2E3FC;\n",
              "    }\n",
              "\n",
              "    [theme=dark] .colab-df-convert:hover {\n",
              "      background-color: #434B5C;\n",
              "      box-shadow: 0px 1px 3px 1px rgba(0, 0, 0, 0.15);\n",
              "      filter: drop-shadow(0px 1px 2px rgba(0, 0, 0, 0.3));\n",
              "      fill: #FFFFFF;\n",
              "    }\n",
              "  </style>\n",
              "\n",
              "      <script>\n",
              "        const buttonEl =\n",
              "          document.querySelector('#df-546bd06e-4762-4bfd-9f04-f4fc854a2efd button.colab-df-convert');\n",
              "        buttonEl.style.display =\n",
              "          google.colab.kernel.accessAllowed ? 'block' : 'none';\n",
              "\n",
              "        async function convertToInteractive(key) {\n",
              "          const element = document.querySelector('#df-546bd06e-4762-4bfd-9f04-f4fc854a2efd');\n",
              "          const dataTable =\n",
              "            await google.colab.kernel.invokeFunction('convertToInteractive',\n",
              "                                                     [key], {});\n",
              "          if (!dataTable) return;\n",
              "\n",
              "          const docLinkHtml = 'Like what you see? Visit the ' +\n",
              "            '<a target=\"_blank\" href=https://colab.research.google.com/notebooks/data_table.ipynb>data table notebook</a>'\n",
              "            + ' to learn more about interactive tables.';\n",
              "          element.innerHTML = '';\n",
              "          dataTable['output_type'] = 'display_data';\n",
              "          await google.colab.output.renderOutput(dataTable, element);\n",
              "          const docLink = document.createElement('div');\n",
              "          docLink.innerHTML = docLinkHtml;\n",
              "          element.appendChild(docLink);\n",
              "        }\n",
              "      </script>\n",
              "    </div>\n",
              "  </div>\n",
              "  "
            ]
          },
          "metadata": {},
          "execution_count": 6
        }
      ]
    },
    {
      "cell_type": "markdown",
      "source": [
        "# Analyzing the dataset using the statistics and graphs below:"
      ],
      "metadata": {
        "id": "8fgUHZARE84V"
      }
    },
    {
      "cell_type": "markdown",
      "source": [
        "<h4> The dataset is composed of the attributes:</h4>\n",
        "\n",
        "* Date: Date the data was collected.\n",
        "* Average temperature: Average temperature of the day that was collected.\n",
        "* Minimum temperature: Minimum temperature of the day that was collected.\n",
        "* Maximum temperature: Maximum temperature of the day that was collected.\n",
        "* Precipitation: Amount of rain that occurred in the day.\n",
        "* Weekend: Whether the collection day was a weekend (1) or not (0).\n",
        "* Beer consumption: Amount of beer consumed in the day.\n",
        "\n",
        "<h4>Through the simplest statistics of the dataframe, it is possible to visualize that the minimum temperature at which customers drink beer is 10.6º, with this, a brewery knows that the sale of beer will only occur on days with a minimum temperature greater than or equal to 10.6º and can, for example, close the store on that day, saving on employees.</h4>\n",
        "<h4>It can be noted that there is a relationship between temperature and precipitation, that is, on hotter and drier days, there is a rise in consumption of beer.</h4>\n"
      ],
      "metadata": {
        "id": "GBbw-APSmpps"
      }
    },
    {
      "cell_type": "code",
      "source": [
        "print(f'This dataset contais {df.shape[0]} rows of data and {df.shape[1]} columns or attributes')\n",
        "\n",
        "df.describe()"
      ],
      "metadata": {
        "colab": {
          "base_uri": "https://localhost:8080/",
          "height": 318
        },
        "id": "Cii2efkNFDLr",
        "outputId": "b1d31235-12fc-435b-ad3b-a03bbc9ee1df"
      },
      "execution_count": 7,
      "outputs": [
        {
          "output_type": "stream",
          "name": "stdout",
          "text": [
            "This dataset contais 941 rows of data and 7 columns or attributes\n"
          ]
        },
        {
          "output_type": "execute_result",
          "data": {
            "text/plain": [
              "       Temperatura Media (C)  Temperatura Minima (C)  Temperatura Maxima (C)  \\\n",
              "count             365.000000              365.000000              365.000000   \n",
              "mean               21.226356               17.461370               26.611507   \n",
              "std                 3.180108                2.826185                4.317366   \n",
              "min                12.900000               10.600000               14.500000   \n",
              "25%                19.020000               15.300000               23.800000   \n",
              "50%                21.380000               17.900000               26.900000   \n",
              "75%                23.280000               19.600000               29.400000   \n",
              "max                28.860000               24.500000               36.500000   \n",
              "\n",
              "       Precipitacao (mm)  Final de Semana  \n",
              "count         365.000000       365.000000  \n",
              "mean            5.196712         0.284932  \n",
              "std            12.417844         0.452001  \n",
              "min             0.000000         0.000000  \n",
              "25%             0.000000         0.000000  \n",
              "50%             0.000000         0.000000  \n",
              "75%             3.200000         1.000000  \n",
              "max            94.800000         1.000000  "
            ],
            "text/html": [
              "\n",
              "  <div id=\"df-c25fd8cc-4c9c-4c25-9489-57bc32b19881\">\n",
              "    <div class=\"colab-df-container\">\n",
              "      <div>\n",
              "<style scoped>\n",
              "    .dataframe tbody tr th:only-of-type {\n",
              "        vertical-align: middle;\n",
              "    }\n",
              "\n",
              "    .dataframe tbody tr th {\n",
              "        vertical-align: top;\n",
              "    }\n",
              "\n",
              "    .dataframe thead th {\n",
              "        text-align: right;\n",
              "    }\n",
              "</style>\n",
              "<table border=\"1\" class=\"dataframe\">\n",
              "  <thead>\n",
              "    <tr style=\"text-align: right;\">\n",
              "      <th></th>\n",
              "      <th>Temperatura Media (C)</th>\n",
              "      <th>Temperatura Minima (C)</th>\n",
              "      <th>Temperatura Maxima (C)</th>\n",
              "      <th>Precipitacao (mm)</th>\n",
              "      <th>Final de Semana</th>\n",
              "    </tr>\n",
              "  </thead>\n",
              "  <tbody>\n",
              "    <tr>\n",
              "      <th>count</th>\n",
              "      <td>365.000000</td>\n",
              "      <td>365.000000</td>\n",
              "      <td>365.000000</td>\n",
              "      <td>365.000000</td>\n",
              "      <td>365.000000</td>\n",
              "    </tr>\n",
              "    <tr>\n",
              "      <th>mean</th>\n",
              "      <td>21.226356</td>\n",
              "      <td>17.461370</td>\n",
              "      <td>26.611507</td>\n",
              "      <td>5.196712</td>\n",
              "      <td>0.284932</td>\n",
              "    </tr>\n",
              "    <tr>\n",
              "      <th>std</th>\n",
              "      <td>3.180108</td>\n",
              "      <td>2.826185</td>\n",
              "      <td>4.317366</td>\n",
              "      <td>12.417844</td>\n",
              "      <td>0.452001</td>\n",
              "    </tr>\n",
              "    <tr>\n",
              "      <th>min</th>\n",
              "      <td>12.900000</td>\n",
              "      <td>10.600000</td>\n",
              "      <td>14.500000</td>\n",
              "      <td>0.000000</td>\n",
              "      <td>0.000000</td>\n",
              "    </tr>\n",
              "    <tr>\n",
              "      <th>25%</th>\n",
              "      <td>19.020000</td>\n",
              "      <td>15.300000</td>\n",
              "      <td>23.800000</td>\n",
              "      <td>0.000000</td>\n",
              "      <td>0.000000</td>\n",
              "    </tr>\n",
              "    <tr>\n",
              "      <th>50%</th>\n",
              "      <td>21.380000</td>\n",
              "      <td>17.900000</td>\n",
              "      <td>26.900000</td>\n",
              "      <td>0.000000</td>\n",
              "      <td>0.000000</td>\n",
              "    </tr>\n",
              "    <tr>\n",
              "      <th>75%</th>\n",
              "      <td>23.280000</td>\n",
              "      <td>19.600000</td>\n",
              "      <td>29.400000</td>\n",
              "      <td>3.200000</td>\n",
              "      <td>1.000000</td>\n",
              "    </tr>\n",
              "    <tr>\n",
              "      <th>max</th>\n",
              "      <td>28.860000</td>\n",
              "      <td>24.500000</td>\n",
              "      <td>36.500000</td>\n",
              "      <td>94.800000</td>\n",
              "      <td>1.000000</td>\n",
              "    </tr>\n",
              "  </tbody>\n",
              "</table>\n",
              "</div>\n",
              "      <button class=\"colab-df-convert\" onclick=\"convertToInteractive('df-c25fd8cc-4c9c-4c25-9489-57bc32b19881')\"\n",
              "              title=\"Convert this dataframe to an interactive table.\"\n",
              "              style=\"display:none;\">\n",
              "        \n",
              "  <svg xmlns=\"http://www.w3.org/2000/svg\" height=\"24px\"viewBox=\"0 0 24 24\"\n",
              "       width=\"24px\">\n",
              "    <path d=\"M0 0h24v24H0V0z\" fill=\"none\"/>\n",
              "    <path d=\"M18.56 5.44l.94 2.06.94-2.06 2.06-.94-2.06-.94-.94-2.06-.94 2.06-2.06.94zm-11 1L8.5 8.5l.94-2.06 2.06-.94-2.06-.94L8.5 2.5l-.94 2.06-2.06.94zm10 10l.94 2.06.94-2.06 2.06-.94-2.06-.94-.94-2.06-.94 2.06-2.06.94z\"/><path d=\"M17.41 7.96l-1.37-1.37c-.4-.4-.92-.59-1.43-.59-.52 0-1.04.2-1.43.59L10.3 9.45l-7.72 7.72c-.78.78-.78 2.05 0 2.83L4 21.41c.39.39.9.59 1.41.59.51 0 1.02-.2 1.41-.59l7.78-7.78 2.81-2.81c.8-.78.8-2.07 0-2.86zM5.41 20L4 18.59l7.72-7.72 1.47 1.35L5.41 20z\"/>\n",
              "  </svg>\n",
              "      </button>\n",
              "      \n",
              "  <style>\n",
              "    .colab-df-container {\n",
              "      display:flex;\n",
              "      flex-wrap:wrap;\n",
              "      gap: 12px;\n",
              "    }\n",
              "\n",
              "    .colab-df-convert {\n",
              "      background-color: #E8F0FE;\n",
              "      border: none;\n",
              "      border-radius: 50%;\n",
              "      cursor: pointer;\n",
              "      display: none;\n",
              "      fill: #1967D2;\n",
              "      height: 32px;\n",
              "      padding: 0 0 0 0;\n",
              "      width: 32px;\n",
              "    }\n",
              "\n",
              "    .colab-df-convert:hover {\n",
              "      background-color: #E2EBFA;\n",
              "      box-shadow: 0px 1px 2px rgba(60, 64, 67, 0.3), 0px 1px 3px 1px rgba(60, 64, 67, 0.15);\n",
              "      fill: #174EA6;\n",
              "    }\n",
              "\n",
              "    [theme=dark] .colab-df-convert {\n",
              "      background-color: #3B4455;\n",
              "      fill: #D2E3FC;\n",
              "    }\n",
              "\n",
              "    [theme=dark] .colab-df-convert:hover {\n",
              "      background-color: #434B5C;\n",
              "      box-shadow: 0px 1px 3px 1px rgba(0, 0, 0, 0.15);\n",
              "      filter: drop-shadow(0px 1px 2px rgba(0, 0, 0, 0.3));\n",
              "      fill: #FFFFFF;\n",
              "    }\n",
              "  </style>\n",
              "\n",
              "      <script>\n",
              "        const buttonEl =\n",
              "          document.querySelector('#df-c25fd8cc-4c9c-4c25-9489-57bc32b19881 button.colab-df-convert');\n",
              "        buttonEl.style.display =\n",
              "          google.colab.kernel.accessAllowed ? 'block' : 'none';\n",
              "\n",
              "        async function convertToInteractive(key) {\n",
              "          const element = document.querySelector('#df-c25fd8cc-4c9c-4c25-9489-57bc32b19881');\n",
              "          const dataTable =\n",
              "            await google.colab.kernel.invokeFunction('convertToInteractive',\n",
              "                                                     [key], {});\n",
              "          if (!dataTable) return;\n",
              "\n",
              "          const docLinkHtml = 'Like what you see? Visit the ' +\n",
              "            '<a target=\"_blank\" href=https://colab.research.google.com/notebooks/data_table.ipynb>data table notebook</a>'\n",
              "            + ' to learn more about interactive tables.';\n",
              "          element.innerHTML = '';\n",
              "          dataTable['output_type'] = 'display_data';\n",
              "          await google.colab.output.renderOutput(dataTable, element);\n",
              "          const docLink = document.createElement('div');\n",
              "          docLink.innerHTML = docLinkHtml;\n",
              "          element.appendChild(docLink);\n",
              "        }\n",
              "      </script>\n",
              "    </div>\n",
              "  </div>\n",
              "  "
            ]
          },
          "metadata": {},
          "execution_count": 7
        }
      ]
    },
    {
      "cell_type": "code",
      "source": [
        "df.info()"
      ],
      "metadata": {
        "colab": {
          "base_uri": "https://localhost:8080/"
        },
        "id": "R5iQ7-CtFh2t",
        "outputId": "320c0688-1ba7-4a89-e746-b104015fcdf7"
      },
      "execution_count": 8,
      "outputs": [
        {
          "output_type": "stream",
          "name": "stdout",
          "text": [
            "<class 'pandas.core.frame.DataFrame'>\n",
            "RangeIndex: 941 entries, 0 to 940\n",
            "Data columns (total 7 columns):\n",
            " #   Column                       Non-Null Count  Dtype  \n",
            "---  ------                       --------------  -----  \n",
            " 0   Data                         365 non-null    object \n",
            " 1   Temperatura Media (C)        365 non-null    float64\n",
            " 2   Temperatura Minima (C)       365 non-null    float64\n",
            " 3   Temperatura Maxima (C)       365 non-null    float64\n",
            " 4   Precipitacao (mm)            365 non-null    float64\n",
            " 5   Final de Semana              365 non-null    float64\n",
            " 6   Consumo de cerveja (litros)  365 non-null    object \n",
            "dtypes: float64(5), object(2)\n",
            "memory usage: 51.6+ KB\n"
          ]
        }
      ]
    },
    {
      "cell_type": "markdown",
      "source": [
        "<h4>It is necessary to change the type of the columns to float in order to train the machine, with the exception of Date. For some reason, after modifying most of the variables, Beer Consumption switches from float to object, so it is necessary to change its type.</h4>"
      ],
      "metadata": {
        "id": "xaMPcC9br6nx"
      }
    },
    {
      "cell_type": "code",
      "source": [
        "df['Consumo de cerveja (litros)'] = df['Consumo de cerveja (litros)'].astype(float)"
      ],
      "metadata": {
        "id": "hdNSyrEITB2c"
      },
      "execution_count": 9,
      "outputs": []
    },
    {
      "cell_type": "code",
      "source": [
        "df.info()"
      ],
      "metadata": {
        "colab": {
          "base_uri": "https://localhost:8080/"
        },
        "id": "2TdsX_C5s0d7",
        "outputId": "6e83db65-c84a-4d33-a12a-40e129008ee0"
      },
      "execution_count": 10,
      "outputs": [
        {
          "output_type": "stream",
          "name": "stdout",
          "text": [
            "<class 'pandas.core.frame.DataFrame'>\n",
            "RangeIndex: 941 entries, 0 to 940\n",
            "Data columns (total 7 columns):\n",
            " #   Column                       Non-Null Count  Dtype  \n",
            "---  ------                       --------------  -----  \n",
            " 0   Data                         365 non-null    object \n",
            " 1   Temperatura Media (C)        365 non-null    float64\n",
            " 2   Temperatura Minima (C)       365 non-null    float64\n",
            " 3   Temperatura Maxima (C)       365 non-null    float64\n",
            " 4   Precipitacao (mm)            365 non-null    float64\n",
            " 5   Final de Semana              365 non-null    float64\n",
            " 6   Consumo de cerveja (litros)  365 non-null    float64\n",
            "dtypes: float64(6), object(1)\n",
            "memory usage: 51.6+ KB\n"
          ]
        }
      ]
    },
    {
      "cell_type": "markdown",
      "source": [
        "## Determine which variable will be the independent for the dependent variable 'Beer consumption (liter)'\n",
        "\n",
        "<h4>The graphs will be analyzed and the one that looks more like a linear regression will be used. The group will adopt Maximum Temperature as the independent variable, as the graph makes the most sense and, theoretically, people like to drink beer when it is hot.</h4>"
      ],
      "metadata": {
        "id": "ed6LwM40oBLv"
      }
    },
    {
      "cell_type": "code",
      "source": [
        "sns.scatterplot(data=df, x= 'Final de Semana', y='Consumo de cerveja (litros)')"
      ],
      "metadata": {
        "id": "Ftgx0ssWlgV9",
        "colab": {
          "base_uri": "https://localhost:8080/",
          "height": 359
        },
        "outputId": "9c7ed8e4-f03f-45f3-a935-feb49b71338c"
      },
      "execution_count": 11,
      "outputs": [
        {
          "output_type": "execute_result",
          "data": {
            "text/plain": [
              "<matplotlib.axes._subplots.AxesSubplot at 0x7f8ed14c02d0>"
            ]
          },
          "metadata": {},
          "execution_count": 11
        },
        {
          "output_type": "display_data",
          "data": {
            "text/plain": [
              "<Figure size 1080x360 with 1 Axes>"
            ],
            "image/png": "[encoded data removed]"
          },
          "metadata": {
            "needs_background": "light"
          }
        }
      ]
    },
    {
      "cell_type": "code",
      "source": [
        "sns.scatterplot(data=df, x= 'Precipitacao (mm)', y='Consumo de cerveja (litros)')"
      ],
      "metadata": {
        "id": "bcK1ydkZns2r",
        "colab": {
          "base_uri": "https://localhost:8080/",
          "height": 359
        },
        "outputId": "97bfeea4-026a-4b73-c8e0-340e7b6fd2ec"
      },
      "execution_count": 12,
      "outputs": [
        {
          "output_type": "execute_result",
          "data": {
            "text/plain": [
              "<matplotlib.axes._subplots.AxesSubplot at 0x7f8ed0a50dd0>"
            ]
          },
          "metadata": {},
          "execution_count": 12
        },
        {
          "output_type": "display_data",
          "data": {
            "text/plain": [
              "<Figure size 1080x360 with 1 Axes>"
            ],
            "image/png": "[encoded data removed]"
          },
          "metadata": {
            "needs_background": "light"
          }
        }
      ]
    },
    {
      "cell_type": "code",
      "source": [
        "sns.scatterplot(data=df, x= 'Temperatura Maxima (C)', y='Consumo de cerveja (litros)')"
      ],
      "metadata": {
        "id": "yLhCd7PknxSl",
        "colab": {
          "base_uri": "https://localhost:8080/",
          "height": 359
        },
        "outputId": "12016a88-e1da-4847-ecfa-c9540e7c80c4"
      },
      "execution_count": 13,
      "outputs": [
        {
          "output_type": "execute_result",
          "data": {
            "text/plain": [
              "<matplotlib.axes._subplots.AxesSubplot at 0x7f8ed0581250>"
            ]
          },
          "metadata": {},
          "execution_count": 13
        },
        {
          "output_type": "display_data",
          "data": {
            "text/plain": [
              "<Figure size 1080x360 with 1 Axes>"
            ],
            "image/png": "[encoded data removed]"
          },
          "metadata": {
            "needs_background": "light"
          }
        }
      ]
    },
    {
      "cell_type": "code",
      "source": [
        "sns.scatterplot(data=df, x= 'Temperatura Minima (C)', y='Consumo de cerveja (litros)')"
      ],
      "metadata": {
        "id": "MAX2b8mZn15V",
        "colab": {
          "base_uri": "https://localhost:8080/",
          "height": 359
        },
        "outputId": "f336ea73-6039-48e8-8d19-7b41467abfb9"
      },
      "execution_count": 14,
      "outputs": [
        {
          "output_type": "execute_result",
          "data": {
            "text/plain": [
              "<matplotlib.axes._subplots.AxesSubplot at 0x7f8ed0a5d9d0>"
            ]
          },
          "metadata": {},
          "execution_count": 14
        },
        {
          "output_type": "display_data",
          "data": {
            "text/plain": [
              "<Figure size 1080x360 with 1 Axes>"
            ],
            "image/png": "[encoded data removed]"
          },
          "metadata": {
            "needs_background": "light"
          }
        }
      ]
    },
    {
      "cell_type": "code",
      "source": [
        "sns.scatterplot(data=df, x= 'Temperatura Media (C)', y='Consumo de cerveja (litros)')"
      ],
      "metadata": {
        "id": "WOjroQUSn3vF",
        "colab": {
          "base_uri": "https://localhost:8080/",
          "height": 359
        },
        "outputId": "fe1cabd2-98ac-4b6f-92a7-73489df249ea"
      },
      "execution_count": 15,
      "outputs": [
        {
          "output_type": "execute_result",
          "data": {
            "text/plain": [
              "<matplotlib.axes._subplots.AxesSubplot at 0x7f8ed04d2810>"
            ]
          },
          "metadata": {},
          "execution_count": 15
        },
        {
          "output_type": "display_data",
          "data": {
            "text/plain": [
              "<Figure size 1080x360 with 1 Axes>"
            ],
            "image/png": "[encoded data removed]"
          },
          "metadata": {
            "needs_background": "light"
          }
        }
      ]
    },
    {
      "cell_type": "code",
      "source": [
        "sns.scatterplot(data=df, x= 'Data', y='Consumo de cerveja (litros)')"
      ],
      "metadata": {
        "id": "k0cmtMHHn6Ht",
        "colab": {
          "base_uri": "https://localhost:8080/",
          "height": 359
        },
        "outputId": "0e6cb401-8764-4143-f9d4-eb87d8ee5f73"
      },
      "execution_count": 16,
      "outputs": [
        {
          "output_type": "execute_result",
          "data": {
            "text/plain": [
              "<matplotlib.axes._subplots.AxesSubplot at 0x7f8ed0441890>"
            ]
          },
          "metadata": {},
          "execution_count": 16
        },
        {
          "output_type": "display_data",
          "data": {
            "text/plain": [
              "<Figure size 1080x360 with 1 Axes>"
            ],
            "image/png": "[encoded data removed]"
          },
          "metadata": {
            "needs_background": "light"
          }
        }
      ]
    },
    {
      "cell_type": "markdown",
      "source": [
        "# Understanding the relationship between maximum temperature and beer consumption"
      ],
      "metadata": {
        "id": "kMwv2IlipsZs"
      }
    },
    {
      "cell_type": "code",
      "source": [
        "new_df = df[['Temperatura Maxima (C)','Consumo de cerveja (litros)']].copy()"
      ],
      "metadata": {
        "id": "HzPwWeBOp4O0"
      },
      "execution_count": 17,
      "outputs": []
    },
    {
      "cell_type": "code",
      "source": [
        "new_df"
      ],
      "metadata": {
        "colab": {
          "base_uri": "https://localhost:8080/",
          "height": 424
        },
        "id": "ZTvD-OnvtT7V",
        "outputId": "e5a82773-e25a-4d7a-e390-e88d311e29bb"
      },
      "execution_count": 18,
      "outputs": [
        {
          "output_type": "execute_result",
          "data": {
            "text/plain": [
              "     Temperatura Maxima (C)  Consumo de cerveja (litros)\n",
              "0                      32.5                       25.461\n",
              "1                      33.5                       28.972\n",
              "2                      29.9                       30.814\n",
              "3                      28.6                       29.799\n",
              "4                      28.3                       28.900\n",
              "..                      ...                          ...\n",
              "936                     NaN                          NaN\n",
              "937                     NaN                          NaN\n",
              "938                     NaN                          NaN\n",
              "939                     NaN                          NaN\n",
              "940                     NaN                          NaN\n",
              "\n",
              "[941 rows x 2 columns]"
            ],
            "text/html": [
              "\n",
              "  <div id=\"df-3bcbb701-70e4-41e0-a0b2-6fd36b5a0fc9\">\n",
              "    <div class=\"colab-df-container\">\n",
              "      <div>\n",
              "<style scoped>\n",
              "    .dataframe tbody tr th:only-of-type {\n",
              "        vertical-align: middle;\n",
              "    }\n",
              "\n",
              "    .dataframe tbody tr th {\n",
              "        vertical-align: top;\n",
              "    }\n",
              "\n",
              "    .dataframe thead th {\n",
              "        text-align: right;\n",
              "    }\n",
              "</style>\n",
              "<table border=\"1\" class=\"dataframe\">\n",
              "  <thead>\n",
              "    <tr style=\"text-align: right;\">\n",
              "      <th></th>\n",
              "      <th>Temperatura Maxima (C)</th>\n",
              "      <th>Consumo de cerveja (litros)</th>\n",
              "    </tr>\n",
              "  </thead>\n",
              "  <tbody>\n",
              "    <tr>\n",
              "      <th>0</th>\n",
              "      <td>32.5</td>\n",
              "      <td>25.461</td>\n",
              "    </tr>\n",
              "    <tr>\n",
              "      <th>1</th>\n",
              "      <td>33.5</td>\n",
              "      <td>28.972</td>\n",
              "    </tr>\n",
              "    <tr>\n",
              "      <th>2</th>\n",
              "      <td>29.9</td>\n",
              "      <td>30.814</td>\n",
              "    </tr>\n",
              "    <tr>\n",
              "      <th>3</th>\n",
              "      <td>28.6</td>\n",
              "      <td>29.799</td>\n",
              "    </tr>\n",
              "    <tr>\n",
              "      <th>4</th>\n",
              "      <td>28.3</td>\n",
              "      <td>28.900</td>\n",
              "    </tr>\n",
              "    <tr>\n",
              "      <th>...</th>\n",
              "      <td>...</td>\n",
              "      <td>...</td>\n",
              "    </tr>\n",
              "    <tr>\n",
              "      <th>936</th>\n",
              "      <td>NaN</td>\n",
              "      <td>NaN</td>\n",
              "    </tr>\n",
              "    <tr>\n",
              "      <th>937</th>\n",
              "      <td>NaN</td>\n",
              "      <td>NaN</td>\n",
              "    </tr>\n",
              "    <tr>\n",
              "      <th>938</th>\n",
              "      <td>NaN</td>\n",
              "      <td>NaN</td>\n",
              "    </tr>\n",
              "    <tr>\n",
              "      <th>939</th>\n",
              "      <td>NaN</td>\n",
              "      <td>NaN</td>\n",
              "    </tr>\n",
              "    <tr>\n",
              "      <th>940</th>\n",
              "      <td>NaN</td>\n",
              "      <td>NaN</td>\n",
              "    </tr>\n",
              "  </tbody>\n",
              "</table>\n",
              "<p>941 rows × 2 columns</p>\n",
              "</div>\n",
              "      <button class=\"colab-df-convert\" onclick=\"convertToInteractive('df-3bcbb701-70e4-41e0-a0b2-6fd36b5a0fc9')\"\n",
              "              title=\"Convert this dataframe to an interactive table.\"\n",
              "              style=\"display:none;\">\n",
              "        \n",
              "  <svg xmlns=\"http://www.w3.org/2000/svg\" height=\"24px\"viewBox=\"0 0 24 24\"\n",
              "       width=\"24px\">\n",
              "    <path d=\"M0 0h24v24H0V0z\" fill=\"none\"/>\n",
              "    <path d=\"M18.56 5.44l.94 2.06.94-2.06 2.06-.94-2.06-.94-.94-2.06-.94 2.06-2.06.94zm-11 1L8.5 8.5l.94-2.06 2.06-.94-2.06-.94L8.5 2.5l-.94 2.06-2.06.94zm10 10l.94 2.06.94-2.06 2.06-.94-2.06-.94-.94-2.06-.94 2.06-2.06.94z\"/><path d=\"M17.41 7.96l-1.37-1.37c-.4-.4-.92-.59-1.43-.59-.52 0-1.04.2-1.43.59L10.3 9.45l-7.72 7.72c-.78.78-.78 2.05 0 2.83L4 21.41c.39.39.9.59 1.41.59.51 0 1.02-.2 1.41-.59l7.78-7.78 2.81-2.81c.8-.78.8-2.07 0-2.86zM5.41 20L4 18.59l7.72-7.72 1.47 1.35L5.41 20z\"/>\n",
              "  </svg>\n",
              "      </button>\n",
              "      \n",
              "  <style>\n",
              "    .colab-df-container {\n",
              "      display:flex;\n",
              "      flex-wrap:wrap;\n",
              "      gap: 12px;\n",
              "    }\n",
              "\n",
              "    .colab-df-convert {\n",
              "      background-color: #E8F0FE;\n",
              "      border: none;\n",
              "      border-radius: 50%;\n",
              "      cursor: pointer;\n",
              "      display: none;\n",
              "      fill: #1967D2;\n",
              "      height: 32px;\n",
              "      padding: 0 0 0 0;\n",
              "      width: 32px;\n",
              "    }\n",
              "\n",
              "    .colab-df-convert:hover {\n",
              "      background-color: #E2EBFA;\n",
              "      box-shadow: 0px 1px 2px rgba(60, 64, 67, 0.3), 0px 1px 3px 1px rgba(60, 64, 67, 0.15);\n",
              "      fill: #174EA6;\n",
              "    }\n",
              "\n",
              "    [theme=dark] .colab-df-convert {\n",
              "      background-color: #3B4455;\n",
              "      fill: #D2E3FC;\n",
              "    }\n",
              "\n",
              "    [theme=dark] .colab-df-convert:hover {\n",
              "      background-color: #434B5C;\n",
              "      box-shadow: 0px 1px 3px 1px rgba(0, 0, 0, 0.15);\n",
              "      filter: drop-shadow(0px 1px 2px rgba(0, 0, 0, 0.3));\n",
              "      fill: #FFFFFF;\n",
              "    }\n",
              "  </style>\n",
              "\n",
              "      <script>\n",
              "        const buttonEl =\n",
              "          document.querySelector('#df-3bcbb701-70e4-41e0-a0b2-6fd36b5a0fc9 button.colab-df-convert');\n",
              "        buttonEl.style.display =\n",
              "          google.colab.kernel.accessAllowed ? 'block' : 'none';\n",
              "\n",
              "        async function convertToInteractive(key) {\n",
              "          const element = document.querySelector('#df-3bcbb701-70e4-41e0-a0b2-6fd36b5a0fc9');\n",
              "          const dataTable =\n",
              "            await google.colab.kernel.invokeFunction('convertToInteractive',\n",
              "                                                     [key], {});\n",
              "          if (!dataTable) return;\n",
              "\n",
              "          const docLinkHtml = 'Like what you see? Visit the ' +\n",
              "            '<a target=\"_blank\" href=https://colab.research.google.com/notebooks/data_table.ipynb>data table notebook</a>'\n",
              "            + ' to learn more about interactive tables.';\n",
              "          element.innerHTML = '';\n",
              "          dataTable['output_type'] = 'display_data';\n",
              "          await google.colab.output.renderOutput(dataTable, element);\n",
              "          const docLink = document.createElement('div');\n",
              "          docLink.innerHTML = docLinkHtml;\n",
              "          element.appendChild(docLink);\n",
              "        }\n",
              "      </script>\n",
              "    </div>\n",
              "  </div>\n",
              "  "
            ]
          },
          "metadata": {},
          "execution_count": 18
        }
      ]
    },
    {
      "cell_type": "markdown",
      "source": [
        "Drop the lines that does not have values."
      ],
      "metadata": {
        "id": "0e8wrpcAw8_I"
      }
    },
    {
      "cell_type": "code",
      "source": [
        "new_df = new_df.dropna()"
      ],
      "metadata": {
        "id": "P2Zm-NyNu7N4"
      },
      "execution_count": 19,
      "outputs": []
    },
    {
      "cell_type": "markdown",
      "source": [
        "##The lines with null numbers were removed, which left 365 lines instead of 366 as the CSV table shows. This means that there were lines with null attributes in the CSV."
      ],
      "metadata": {
        "id": "blRWKsv_v1p8"
      }
    },
    {
      "cell_type": "code",
      "source": [
        "new_df"
      ],
      "metadata": {
        "colab": {
          "base_uri": "https://localhost:8080/",
          "height": 424
        },
        "id": "iOIyoy8wvmAb",
        "outputId": "b721a03f-1236-4689-ba9a-c961acb3728b"
      },
      "execution_count": 20,
      "outputs": [
        {
          "output_type": "execute_result",
          "data": {
            "text/plain": [
              "     Temperatura Maxima (C)  Consumo de cerveja (litros)\n",
              "0                      32.5                       25.461\n",
              "1                      33.5                       28.972\n",
              "2                      29.9                       30.814\n",
              "3                      28.6                       29.799\n",
              "4                      28.3                       28.900\n",
              "..                      ...                          ...\n",
              "360                    28.2                       32.307\n",
              "361                    26.7                       26.095\n",
              "362                    24.1                       22.309\n",
              "363                    22.4                       20.467\n",
              "364                    29.0                       22.446\n",
              "\n",
              "[365 rows x 2 columns]"
            ],
            "text/html": [
              "\n",
              "  <div id=\"df-73d48d0c-f2b0-4af7-99c8-0e1bd230c776\">\n",
              "    <div class=\"colab-df-container\">\n",
              "      <div>\n",
              "<style scoped>\n",
              "    .dataframe tbody tr th:only-of-type {\n",
              "        vertical-align: middle;\n",
              "    }\n",
              "\n",
              "    .dataframe tbody tr th {\n",
              "        vertical-align: top;\n",
              "    }\n",
              "\n",
              "    .dataframe thead th {\n",
              "        text-align: right;\n",
              "    }\n",
              "</style>\n",
              "<table border=\"1\" class=\"dataframe\">\n",
              "  <thead>\n",
              "    <tr style=\"text-align: right;\">\n",
              "      <th></th>\n",
              "      <th>Temperatura Maxima (C)</th>\n",
              "      <th>Consumo de cerveja (litros)</th>\n",
              "    </tr>\n",
              "  </thead>\n",
              "  <tbody>\n",
              "    <tr>\n",
              "      <th>0</th>\n",
              "      <td>32.5</td>\n",
              "      <td>25.461</td>\n",
              "    </tr>\n",
              "    <tr>\n",
              "      <th>1</th>\n",
              "      <td>33.5</td>\n",
              "      <td>28.972</td>\n",
              "    </tr>\n",
              "    <tr>\n",
              "      <th>2</th>\n",
              "      <td>29.9</td>\n",
              "      <td>30.814</td>\n",
              "    </tr>\n",
              "    <tr>\n",
              "      <th>3</th>\n",
              "      <td>28.6</td>\n",
              "      <td>29.799</td>\n",
              "    </tr>\n",
              "    <tr>\n",
              "      <th>4</th>\n",
              "      <td>28.3</td>\n",
              "      <td>28.900</td>\n",
              "    </tr>\n",
              "    <tr>\n",
              "      <th>...</th>\n",
              "      <td>...</td>\n",
              "      <td>...</td>\n",
              "    </tr>\n",
              "    <tr>\n",
              "      <th>360</th>\n",
              "      <td>28.2</td>\n",
              "      <td>32.307</td>\n",
              "    </tr>\n",
              "    <tr>\n",
              "      <th>361</th>\n",
              "      <td>26.7</td>\n",
              "      <td>26.095</td>\n",
              "    </tr>\n",
              "    <tr>\n",
              "      <th>362</th>\n",
              "      <td>24.1</td>\n",
              "      <td>22.309</td>\n",
              "    </tr>\n",
              "    <tr>\n",
              "      <th>363</th>\n",
              "      <td>22.4</td>\n",
              "      <td>20.467</td>\n",
              "    </tr>\n",
              "    <tr>\n",
              "      <th>364</th>\n",
              "      <td>29.0</td>\n",
              "      <td>22.446</td>\n",
              "    </tr>\n",
              "  </tbody>\n",
              "</table>\n",
              "<p>365 rows × 2 columns</p>\n",
              "</div>\n",
              "      <button class=\"colab-df-convert\" onclick=\"convertToInteractive('df-73d48d0c-f2b0-4af7-99c8-0e1bd230c776')\"\n",
              "              title=\"Convert this dataframe to an interactive table.\"\n",
              "              style=\"display:none;\">\n",
              "        \n",
              "  <svg xmlns=\"http://www.w3.org/2000/svg\" height=\"24px\"viewBox=\"0 0 24 24\"\n",
              "       width=\"24px\">\n",
              "    <path d=\"M0 0h24v24H0V0z\" fill=\"none\"/>\n",
              "    <path d=\"M18.56 5.44l.94 2.06.94-2.06 2.06-.94-2.06-.94-.94-2.06-.94 2.06-2.06.94zm-11 1L8.5 8.5l.94-2.06 2.06-.94-2.06-.94L8.5 2.5l-.94 2.06-2.06.94zm10 10l.94 2.06.94-2.06 2.06-.94-2.06-.94-.94-2.06-.94 2.06-2.06.94z\"/><path d=\"M17.41 7.96l-1.37-1.37c-.4-.4-.92-.59-1.43-.59-.52 0-1.04.2-1.43.59L10.3 9.45l-7.72 7.72c-.78.78-.78 2.05 0 2.83L4 21.41c.39.39.9.59 1.41.59.51 0 1.02-.2 1.41-.59l7.78-7.78 2.81-2.81c.8-.78.8-2.07 0-2.86zM5.41 20L4 18.59l7.72-7.72 1.47 1.35L5.41 20z\"/>\n",
              "  </svg>\n",
              "      </button>\n",
              "      \n",
              "  <style>\n",
              "    .colab-df-container {\n",
              "      display:flex;\n",
              "      flex-wrap:wrap;\n",
              "      gap: 12px;\n",
              "    }\n",
              "\n",
              "    .colab-df-convert {\n",
              "      background-color: #E8F0FE;\n",
              "      border: none;\n",
              "      border-radius: 50%;\n",
              "      cursor: pointer;\n",
              "      display: none;\n",
              "      fill: #1967D2;\n",
              "      height: 32px;\n",
              "      padding: 0 0 0 0;\n",
              "      width: 32px;\n",
              "    }\n",
              "\n",
              "    .colab-df-convert:hover {\n",
              "      background-color: #E2EBFA;\n",
              "      box-shadow: 0px 1px 2px rgba(60, 64, 67, 0.3), 0px 1px 3px 1px rgba(60, 64, 67, 0.15);\n",
              "      fill: #174EA6;\n",
              "    }\n",
              "\n",
              "    [theme=dark] .colab-df-convert {\n",
              "      background-color: #3B4455;\n",
              "      fill: #D2E3FC;\n",
              "    }\n",
              "\n",
              "    [theme=dark] .colab-df-convert:hover {\n",
              "      background-color: #434B5C;\n",
              "      box-shadow: 0px 1px 3px 1px rgba(0, 0, 0, 0.15);\n",
              "      filter: drop-shadow(0px 1px 2px rgba(0, 0, 0, 0.3));\n",
              "      fill: #FFFFFF;\n",
              "    }\n",
              "  </style>\n",
              "\n",
              "      <script>\n",
              "        const buttonEl =\n",
              "          document.querySelector('#df-73d48d0c-f2b0-4af7-99c8-0e1bd230c776 button.colab-df-convert');\n",
              "        buttonEl.style.display =\n",
              "          google.colab.kernel.accessAllowed ? 'block' : 'none';\n",
              "\n",
              "        async function convertToInteractive(key) {\n",
              "          const element = document.querySelector('#df-73d48d0c-f2b0-4af7-99c8-0e1bd230c776');\n",
              "          const dataTable =\n",
              "            await google.colab.kernel.invokeFunction('convertToInteractive',\n",
              "                                                     [key], {});\n",
              "          if (!dataTable) return;\n",
              "\n",
              "          const docLinkHtml = 'Like what you see? Visit the ' +\n",
              "            '<a target=\"_blank\" href=https://colab.research.google.com/notebooks/data_table.ipynb>data table notebook</a>'\n",
              "            + ' to learn more about interactive tables.';\n",
              "          element.innerHTML = '';\n",
              "          dataTable['output_type'] = 'display_data';\n",
              "          await google.colab.output.renderOutput(dataTable, element);\n",
              "          const docLink = document.createElement('div');\n",
              "          docLink.innerHTML = docLinkHtml;\n",
              "          element.appendChild(docLink);\n",
              "        }\n",
              "      </script>\n",
              "    </div>\n",
              "  </div>\n",
              "  "
            ]
          },
          "metadata": {},
          "execution_count": 20
        }
      ]
    },
    {
      "cell_type": "code",
      "source": [
        "new_df.info()"
      ],
      "metadata": {
        "colab": {
          "base_uri": "https://localhost:8080/"
        },
        "id": "2reFGKuUwJEN",
        "outputId": "9d2341aa-4e9d-4943-ab31-eaae2c4ac93b"
      },
      "execution_count": 21,
      "outputs": [
        {
          "output_type": "stream",
          "name": "stdout",
          "text": [
            "<class 'pandas.core.frame.DataFrame'>\n",
            "Int64Index: 365 entries, 0 to 364\n",
            "Data columns (total 2 columns):\n",
            " #   Column                       Non-Null Count  Dtype  \n",
            "---  ------                       --------------  -----  \n",
            " 0   Temperatura Maxima (C)       365 non-null    float64\n",
            " 1   Consumo de cerveja (litros)  365 non-null    float64\n",
            "dtypes: float64(2)\n",
            "memory usage: 8.6 KB\n"
          ]
        }
      ]
    },
    {
      "cell_type": "markdown",
      "source": [
        "Correlation between the attributes of Maximum Temperature (C) and Beer Consumption (liters)"
      ],
      "metadata": {
        "id": "3mYw_BL1BZ4t"
      }
    },
    {
      "cell_type": "code",
      "source": [
        "new_df.corr()"
      ],
      "metadata": {
        "id": "MDllQSEwyXFK",
        "colab": {
          "base_uri": "https://localhost:8080/",
          "height": 112
        },
        "outputId": "3a245621-4e9b-4619-d382-15354290c016"
      },
      "execution_count": 22,
      "outputs": [
        {
          "output_type": "execute_result",
          "data": {
            "text/plain": [
              "                             Temperatura Maxima (C)  \\\n",
              "Temperatura Maxima (C)                     1.000000   \n",
              "Consumo de cerveja (litros)                0.642672   \n",
              "\n",
              "                             Consumo de cerveja (litros)  \n",
              "Temperatura Maxima (C)                          0.642672  \n",
              "Consumo de cerveja (litros)                     1.000000  "
            ],
            "text/html": [
              "\n",
              "  <div id=\"df-56fb01ed-6625-403d-9889-795dadaba053\">\n",
              "    <div class=\"colab-df-container\">\n",
              "      <div>\n",
              "<style scoped>\n",
              "    .dataframe tbody tr th:only-of-type {\n",
              "        vertical-align: middle;\n",
              "    }\n",
              "\n",
              "    .dataframe tbody tr th {\n",
              "        vertical-align: top;\n",
              "    }\n",
              "\n",
              "    .dataframe thead th {\n",
              "        text-align: right;\n",
              "    }\n",
              "</style>\n",
              "<table border=\"1\" class=\"dataframe\">\n",
              "  <thead>\n",
              "    <tr style=\"text-align: right;\">\n",
              "      <th></th>\n",
              "      <th>Temperatura Maxima (C)</th>\n",
              "      <th>Consumo de cerveja (litros)</th>\n",
              "    </tr>\n",
              "  </thead>\n",
              "  <tbody>\n",
              "    <tr>\n",
              "      <th>Temperatura Maxima (C)</th>\n",
              "      <td>1.000000</td>\n",
              "      <td>0.642672</td>\n",
              "    </tr>\n",
              "    <tr>\n",
              "      <th>Consumo de cerveja (litros)</th>\n",
              "      <td>0.642672</td>\n",
              "      <td>1.000000</td>\n",
              "    </tr>\n",
              "  </tbody>\n",
              "</table>\n",
              "</div>\n",
              "      <button class=\"colab-df-convert\" onclick=\"convertToInteractive('df-56fb01ed-6625-403d-9889-795dadaba053')\"\n",
              "              title=\"Convert this dataframe to an interactive table.\"\n",
              "              style=\"display:none;\">\n",
              "        \n",
              "  <svg xmlns=\"http://www.w3.org/2000/svg\" height=\"24px\"viewBox=\"0 0 24 24\"\n",
              "       width=\"24px\">\n",
              "    <path d=\"M0 0h24v24H0V0z\" fill=\"none\"/>\n",
              "    <path d=\"M18.56 5.44l.94 2.06.94-2.06 2.06-.94-2.06-.94-.94-2.06-.94 2.06-2.06.94zm-11 1L8.5 8.5l.94-2.06 2.06-.94-2.06-.94L8.5 2.5l-.94 2.06-2.06.94zm10 10l.94 2.06.94-2.06 2.06-.94-2.06-.94-.94-2.06-.94 2.06-2.06.94z\"/><path d=\"M17.41 7.96l-1.37-1.37c-.4-.4-.92-.59-1.43-.59-.52 0-1.04.2-1.43.59L10.3 9.45l-7.72 7.72c-.78.78-.78 2.05 0 2.83L4 21.41c.39.39.9.59 1.41.59.51 0 1.02-.2 1.41-.59l7.78-7.78 2.81-2.81c.8-.78.8-2.07 0-2.86zM5.41 20L4 18.59l7.72-7.72 1.47 1.35L5.41 20z\"/>\n",
              "  </svg>\n",
              "      </button>\n",
              "      \n",
              "  <style>\n",
              "    .colab-df-container {\n",
              "      display:flex;\n",
              "      flex-wrap:wrap;\n",
              "      gap: 12px;\n",
              "    }\n",
              "\n",
              "    .colab-df-convert {\n",
              "      background-color: #E8F0FE;\n",
              "      border: none;\n",
              "      border-radius: 50%;\n",
              "      cursor: pointer;\n",
              "      display: none;\n",
              "      fill: #1967D2;\n",
              "      height: 32px;\n",
              "      padding: 0 0 0 0;\n",
              "      width: 32px;\n",
              "    }\n",
              "\n",
              "    .colab-df-convert:hover {\n",
              "      background-color: #E2EBFA;\n",
              "      box-shadow: 0px 1px 2px rgba(60, 64, 67, 0.3), 0px 1px 3px 1px rgba(60, 64, 67, 0.15);\n",
              "      fill: #174EA6;\n",
              "    }\n",
              "\n",
              "    [theme=dark] .colab-df-convert {\n",
              "      background-color: #3B4455;\n",
              "      fill: #D2E3FC;\n",
              "    }\n",
              "\n",
              "    [theme=dark] .colab-df-convert:hover {\n",
              "      background-color: #434B5C;\n",
              "      box-shadow: 0px 1px 3px 1px rgba(0, 0, 0, 0.15);\n",
              "      filter: drop-shadow(0px 1px 2px rgba(0, 0, 0, 0.3));\n",
              "      fill: #FFFFFF;\n",
              "    }\n",
              "  </style>\n",
              "\n",
              "      <script>\n",
              "        const buttonEl =\n",
              "          document.querySelector('#df-56fb01ed-6625-403d-9889-795dadaba053 button.colab-df-convert');\n",
              "        buttonEl.style.display =\n",
              "          google.colab.kernel.accessAllowed ? 'block' : 'none';\n",
              "\n",
              "        async function convertToInteractive(key) {\n",
              "          const element = document.querySelector('#df-56fb01ed-6625-403d-9889-795dadaba053');\n",
              "          const dataTable =\n",
              "            await google.colab.kernel.invokeFunction('convertToInteractive',\n",
              "                                                     [key], {});\n",
              "          if (!dataTable) return;\n",
              "\n",
              "          const docLinkHtml = 'Like what you see? Visit the ' +\n",
              "            '<a target=\"_blank\" href=https://colab.research.google.com/notebooks/data_table.ipynb>data table notebook</a>'\n",
              "            + ' to learn more about interactive tables.';\n",
              "          element.innerHTML = '';\n",
              "          dataTable['output_type'] = 'display_data';\n",
              "          await google.colab.output.renderOutput(dataTable, element);\n",
              "          const docLink = document.createElement('div');\n",
              "          docLink.innerHTML = docLinkHtml;\n",
              "          element.appendChild(docLink);\n",
              "        }\n",
              "      </script>\n",
              "    </div>\n",
              "  </div>\n",
              "  "
            ]
          },
          "metadata": {},
          "execution_count": 22
        }
      ]
    },
    {
      "cell_type": "markdown",
      "source": [
        "#Creating the DataFrame to store the independent (Maximum temperature) and dependent (Beer consumption) values"
      ],
      "metadata": {
        "id": "jp7Z7FcW2gBy"
      }
    },
    {
      "cell_type": "code",
      "source": [
        "x = new_df[['Temperatura Maxima (C)']]\n",
        "x"
      ],
      "metadata": {
        "colab": {
          "base_uri": "https://localhost:8080/",
          "height": 424
        },
        "id": "7t-JTWyA0var",
        "outputId": "0c3e0bcf-635b-485c-a033-2e030e83457d"
      },
      "execution_count": 23,
      "outputs": [
        {
          "output_type": "execute_result",
          "data": {
            "text/plain": [
              "     Temperatura Maxima (C)\n",
              "0                      32.5\n",
              "1                      33.5\n",
              "2                      29.9\n",
              "3                      28.6\n",
              "4                      28.3\n",
              "..                      ...\n",
              "360                    28.2\n",
              "361                    26.7\n",
              "362                    24.1\n",
              "363                    22.4\n",
              "364                    29.0\n",
              "\n",
              "[365 rows x 1 columns]"
            ],
            "text/html": [
              "\n",
              "  <div id=\"df-19c537a0-fae7-4774-8fe4-ad7c2d95e654\">\n",
              "    <div class=\"colab-df-container\">\n",
              "      <div>\n",
              "<style scoped>\n",
              "    .dataframe tbody tr th:only-of-type {\n",
              "        vertical-align: middle;\n",
              "    }\n",
              "\n",
              "    .dataframe tbody tr th {\n",
              "        vertical-align: top;\n",
              "    }\n",
              "\n",
              "    .dataframe thead th {\n",
              "        text-align: right;\n",
              "    }\n",
              "</style>\n",
              "<table border=\"1\" class=\"dataframe\">\n",
              "  <thead>\n",
              "    <tr style=\"text-align: right;\">\n",
              "      <th></th>\n",
              "      <th>Temperatura Maxima (C)</th>\n",
              "    </tr>\n",
              "  </thead>\n",
              "  <tbody>\n",
              "    <tr>\n",
              "      <th>0</th>\n",
              "      <td>32.5</td>\n",
              "    </tr>\n",
              "    <tr>\n",
              "      <th>1</th>\n",
              "      <td>33.5</td>\n",
              "    </tr>\n",
              "    <tr>\n",
              "      <th>2</th>\n",
              "      <td>29.9</td>\n",
              "    </tr>\n",
              "    <tr>\n",
              "      <th>3</th>\n",
              "      <td>28.6</td>\n",
              "    </tr>\n",
              "    <tr>\n",
              "      <th>4</th>\n",
              "      <td>28.3</td>\n",
              "    </tr>\n",
              "    <tr>\n",
              "      <th>...</th>\n",
              "      <td>...</td>\n",
              "    </tr>\n",
              "    <tr>\n",
              "      <th>360</th>\n",
              "      <td>28.2</td>\n",
              "    </tr>\n",
              "    <tr>\n",
              "      <th>361</th>\n",
              "      <td>26.7</td>\n",
              "    </tr>\n",
              "    <tr>\n",
              "      <th>362</th>\n",
              "      <td>24.1</td>\n",
              "    </tr>\n",
              "    <tr>\n",
              "      <th>363</th>\n",
              "      <td>22.4</td>\n",
              "    </tr>\n",
              "    <tr>\n",
              "      <th>364</th>\n",
              "      <td>29.0</td>\n",
              "    </tr>\n",
              "  </tbody>\n",
              "</table>\n",
              "<p>365 rows × 1 columns</p>\n",
              "</div>\n",
              "      <button class=\"colab-df-convert\" onclick=\"convertToInteractive('df-19c537a0-fae7-4774-8fe4-ad7c2d95e654')\"\n",
              "              title=\"Convert this dataframe to an interactive table.\"\n",
              "              style=\"display:none;\">\n",
              "        \n",
              "  <svg xmlns=\"http://www.w3.org/2000/svg\" height=\"24px\"viewBox=\"0 0 24 24\"\n",
              "       width=\"24px\">\n",
              "    <path d=\"M0 0h24v24H0V0z\" fill=\"none\"/>\n",
              "    <path d=\"M18.56 5.44l.94 2.06.94-2.06 2.06-.94-2.06-.94-.94-2.06-.94 2.06-2.06.94zm-11 1L8.5 8.5l.94-2.06 2.06-.94-2.06-.94L8.5 2.5l-.94 2.06-2.06.94zm10 10l.94 2.06.94-2.06 2.06-.94-2.06-.94-.94-2.06-.94 2.06-2.06.94z\"/><path d=\"M17.41 7.96l-1.37-1.37c-.4-.4-.92-.59-1.43-.59-.52 0-1.04.2-1.43.59L10.3 9.45l-7.72 7.72c-.78.78-.78 2.05 0 2.83L4 21.41c.39.39.9.59 1.41.59.51 0 1.02-.2 1.41-.59l7.78-7.78 2.81-2.81c.8-.78.8-2.07 0-2.86zM5.41 20L4 18.59l7.72-7.72 1.47 1.35L5.41 20z\"/>\n",
              "  </svg>\n",
              "      </button>\n",
              "      \n",
              "  <style>\n",
              "    .colab-df-container {\n",
              "      display:flex;\n",
              "      flex-wrap:wrap;\n",
              "      gap: 12px;\n",
              "    }\n",
              "\n",
              "    .colab-df-convert {\n",
              "      background-color: #E8F0FE;\n",
              "      border: none;\n",
              "      border-radius: 50%;\n",
              "      cursor: pointer;\n",
              "      display: none;\n",
              "      fill: #1967D2;\n",
              "      height: 32px;\n",
              "      padding: 0 0 0 0;\n",
              "      width: 32px;\n",
              "    }\n",
              "\n",
              "    .colab-df-convert:hover {\n",
              "      background-color: #E2EBFA;\n",
              "      box-shadow: 0px 1px 2px rgba(60, 64, 67, 0.3), 0px 1px 3px 1px rgba(60, 64, 67, 0.15);\n",
              "      fill: #174EA6;\n",
              "    }\n",
              "\n",
              "    [theme=dark] .colab-df-convert {\n",
              "      background-color: #3B4455;\n",
              "      fill: #D2E3FC;\n",
              "    }\n",
              "\n",
              "    [theme=dark] .colab-df-convert:hover {\n",
              "      background-color: #434B5C;\n",
              "      box-shadow: 0px 1px 3px 1px rgba(0, 0, 0, 0.15);\n",
              "      filter: drop-shadow(0px 1px 2px rgba(0, 0, 0, 0.3));\n",
              "      fill: #FFFFFF;\n",
              "    }\n",
              "  </style>\n",
              "\n",
              "      <script>\n",
              "        const buttonEl =\n",
              "          document.querySelector('#df-19c537a0-fae7-4774-8fe4-ad7c2d95e654 button.colab-df-convert');\n",
              "        buttonEl.style.display =\n",
              "          google.colab.kernel.accessAllowed ? 'block' : 'none';\n",
              "\n",
              "        async function convertToInteractive(key) {\n",
              "          const element = document.querySelector('#df-19c537a0-fae7-4774-8fe4-ad7c2d95e654');\n",
              "          const dataTable =\n",
              "            await google.colab.kernel.invokeFunction('convertToInteractive',\n",
              "                                                     [key], {});\n",
              "          if (!dataTable) return;\n",
              "\n",
              "          const docLinkHtml = 'Like what you see? Visit the ' +\n",
              "            '<a target=\"_blank\" href=https://colab.research.google.com/notebooks/data_table.ipynb>data table notebook</a>'\n",
              "            + ' to learn more about interactive tables.';\n",
              "          element.innerHTML = '';\n",
              "          dataTable['output_type'] = 'display_data';\n",
              "          await google.colab.output.renderOutput(dataTable, element);\n",
              "          const docLink = document.createElement('div');\n",
              "          docLink.innerHTML = docLinkHtml;\n",
              "          element.appendChild(docLink);\n",
              "        }\n",
              "      </script>\n",
              "    </div>\n",
              "  </div>\n",
              "  "
            ]
          },
          "metadata": {},
          "execution_count": 23
        }
      ]
    },
    {
      "cell_type": "code",
      "source": [
        "x_npy = x.values\n",
        "x_npy"
      ],
      "metadata": {
        "colab": {
          "base_uri": "https://localhost:8080/"
        },
        "id": "lft6lwiZ2tzS",
        "outputId": "47dfb6fc-3fc7-49c0-b155-dcb3d2d68d40"
      },
      "execution_count": 24,
      "outputs": [
        {
          "output_type": "execute_result",
          "data": {
            "text/plain": [
              "array([[32.5],\n",
              "       [33.5],\n",
              "       [29.9],\n",
              "       [28.6],\n",
              "       [28.3],\n",
              "       [30.5],\n",
              "       [33.7],\n",
              "       [32.8],\n",
              "       [34. ],\n",
              "       [34.2],\n",
              "       [34.8],\n",
              "       [35.4],\n",
              "       [34.8],\n",
              "       [34. ],\n",
              "       [32.8],\n",
              "       [32.7],\n",
              "       [35.8],\n",
              "       [35.6],\n",
              "       [36.5],\n",
              "       [35.6],\n",
              "       [30.9],\n",
              "       [26.1],\n",
              "       [26.1],\n",
              "       [29.4],\n",
              "       [30. ],\n",
              "       [28.7],\n",
              "       [28.7],\n",
              "       [29.9],\n",
              "       [29.2],\n",
              "       [26.9],\n",
              "       [24.3],\n",
              "       [28. ],\n",
              "       [26.5],\n",
              "       [31.1],\n",
              "       [23.7],\n",
              "       [22.9],\n",
              "       [25.4],\n",
              "       [28.7],\n",
              "       [29.5],\n",
              "       [30.7],\n",
              "       [29. ],\n",
              "       [30.4],\n",
              "       [32.7],\n",
              "       [32.1],\n",
              "       [31.6],\n",
              "       [27.6],\n",
              "       [27.3],\n",
              "       [28. ],\n",
              "       [26.4],\n",
              "       [28.5],\n",
              "       [28.2],\n",
              "       [31.1],\n",
              "       [30.8],\n",
              "       [31.4],\n",
              "       [31.9],\n",
              "       [29.3],\n",
              "       [30.3],\n",
              "       [31.4],\n",
              "       [27.7],\n",
              "       [26.3],\n",
              "       [29.2],\n",
              "       [29.5],\n",
              "       [30.5],\n",
              "       [31.6],\n",
              "       [28.5],\n",
              "       [26.6],\n",
              "       [24.4],\n",
              "       [23.3],\n",
              "       [26.9],\n",
              "       [28.1],\n",
              "       [26.9],\n",
              "       [26.6],\n",
              "       [27.9],\n",
              "       [26.8],\n",
              "       [29.4],\n",
              "       [25.6],\n",
              "       [24.1],\n",
              "       [27.1],\n",
              "       [28.2],\n",
              "       [25.3],\n",
              "       [22.8],\n",
              "       [23.3],\n",
              "       [26.3],\n",
              "       [27.9],\n",
              "       [29.8],\n",
              "       [30.8],\n",
              "       [29.5],\n",
              "       [26.6],\n",
              "       [25.9],\n",
              "       [29. ],\n",
              "       [27.5],\n",
              "       [26.2],\n",
              "       [27.2],\n",
              "       [29.4],\n",
              "       [26.4],\n",
              "       [27.7],\n",
              "       [20. ],\n",
              "       [24.3],\n",
              "       [25.6],\n",
              "       [25.5],\n",
              "       [28.4],\n",
              "       [25.7],\n",
              "       [25.7],\n",
              "       [28.8],\n",
              "       [27.4],\n",
              "       [26.7],\n",
              "       [27. ],\n",
              "       [29.3],\n",
              "       [27.2],\n",
              "       [29.2],\n",
              "       [29. ],\n",
              "       [21.6],\n",
              "       [24.9],\n",
              "       [28.1],\n",
              "       [23.3],\n",
              "       [23.7],\n",
              "       [24.9],\n",
              "       [26.9],\n",
              "       [22.7],\n",
              "       [18.7],\n",
              "       [22. ],\n",
              "       [26.4],\n",
              "       [26.3],\n",
              "       [22.3],\n",
              "       [20.8],\n",
              "       [20.4],\n",
              "       [21.7],\n",
              "       [19.2],\n",
              "       [26.1],\n",
              "       [21. ],\n",
              "       [20.6],\n",
              "       [21.7],\n",
              "       [18.9],\n",
              "       [21. ],\n",
              "       [21.5],\n",
              "       [22.3],\n",
              "       [22.4],\n",
              "       [21.3],\n",
              "       [22.9],\n",
              "       [23.3],\n",
              "       [25. ],\n",
              "       [25.4],\n",
              "       [24.4],\n",
              "       [26.3],\n",
              "       [27.4],\n",
              "       [24.8],\n",
              "       [27.1],\n",
              "       [23.2],\n",
              "       [21.9],\n",
              "       [22.9],\n",
              "       [18.4],\n",
              "       [18. ],\n",
              "       [17.5],\n",
              "       [21.7],\n",
              "       [24.1],\n",
              "       [25.3],\n",
              "       [26.1],\n",
              "       [26.2],\n",
              "       [26.4],\n",
              "       [26. ],\n",
              "       [26.2],\n",
              "       [26.9],\n",
              "       [23.5],\n",
              "       [27.4],\n",
              "       [27.3],\n",
              "       [23.4],\n",
              "       [18.1],\n",
              "       [25.1],\n",
              "       [26.2],\n",
              "       [17.7],\n",
              "       [20.4],\n",
              "       [24.6],\n",
              "       [24.6],\n",
              "       [25.5],\n",
              "       [18. ],\n",
              "       [17.4],\n",
              "       [20.9],\n",
              "       [20.8],\n",
              "       [21.8],\n",
              "       [24.4],\n",
              "       [25.1],\n",
              "       [20.5],\n",
              "       [19.9],\n",
              "       [18.4],\n",
              "       [21. ],\n",
              "       [14.5],\n",
              "       [20.6],\n",
              "       [20.2],\n",
              "       [18.7],\n",
              "       [20.4],\n",
              "       [25.4],\n",
              "       [19.8],\n",
              "       [27.4],\n",
              "       [28.7],\n",
              "       [29.3],\n",
              "       [27.6],\n",
              "       [25.8],\n",
              "       [24.3],\n",
              "       [23.8],\n",
              "       [25.9],\n",
              "       [25.1],\n",
              "       [21.4],\n",
              "       [16.1],\n",
              "       [20.6],\n",
              "       [25.8],\n",
              "       [17.9],\n",
              "       [22.9],\n",
              "       [24.2],\n",
              "       [24.5],\n",
              "       [23.8],\n",
              "       [26.7],\n",
              "       [26.6],\n",
              "       [26.4],\n",
              "       [26.3],\n",
              "       [26.9],\n",
              "       [27.4],\n",
              "       [27.2],\n",
              "       [27.7],\n",
              "       [28.9],\n",
              "       [27.8],\n",
              "       [26.2],\n",
              "       [28. ],\n",
              "       [27.2],\n",
              "       [26.6],\n",
              "       [28.1],\n",
              "       [27.6],\n",
              "       [27.8],\n",
              "       [27.2],\n",
              "       [28. ],\n",
              "       [26.5],\n",
              "       [28.3],\n",
              "       [19.6],\n",
              "       [22.1],\n",
              "       [26.2],\n",
              "       [30. ],\n",
              "       [20.5],\n",
              "       [20.5],\n",
              "       [24. ],\n",
              "       [19.8],\n",
              "       [22.1],\n",
              "       [26.7],\n",
              "       [32. ],\n",
              "       [32.2],\n",
              "       [30.7],\n",
              "       [20.2],\n",
              "       [25. ],\n",
              "       [19.3],\n",
              "       [18.5],\n",
              "       [19.9],\n",
              "       [24.4],\n",
              "       [19.2],\n",
              "       [22.9],\n",
              "       [25.6],\n",
              "       [21.8],\n",
              "       [15.6],\n",
              "       [16.1],\n",
              "       [22.5],\n",
              "       [30.1],\n",
              "       [32.6],\n",
              "       [33. ],\n",
              "       [34.5],\n",
              "       [35.5],\n",
              "       [33.3],\n",
              "       [32.8],\n",
              "       [33.3],\n",
              "       [34. ],\n",
              "       [35.3],\n",
              "       [30.3],\n",
              "       [24.9],\n",
              "       [30.6],\n",
              "       [23.6],\n",
              "       [27.1],\n",
              "       [27.6],\n",
              "       [26.4],\n",
              "       [32.7],\n",
              "       [25. ],\n",
              "       [21.3],\n",
              "       [22.4],\n",
              "       [24.7],\n",
              "       [32.6],\n",
              "       [34. ],\n",
              "       [29. ],\n",
              "       [28. ],\n",
              "       [30. ],\n",
              "       [29.6],\n",
              "       [27.6],\n",
              "       [28.5],\n",
              "       [35.8],\n",
              "       [35.7],\n",
              "       [29.2],\n",
              "       [19.2],\n",
              "       [27.2],\n",
              "       [35.3],\n",
              "       [32. ],\n",
              "       [22.8],\n",
              "       [27.3],\n",
              "       [21.2],\n",
              "       [19.2],\n",
              "       [28.5],\n",
              "       [28.4],\n",
              "       [23.9],\n",
              "       [24.8],\n",
              "       [31.2],\n",
              "       [29.3],\n",
              "       [22.4],\n",
              "       [27.2],\n",
              "       [25.6],\n",
              "       [27.4],\n",
              "       [24.8],\n",
              "       [22.8],\n",
              "       [20. ],\n",
              "       [23.9],\n",
              "       [29.5],\n",
              "       [31.8],\n",
              "       [32.7],\n",
              "       [31.8],\n",
              "       [29.6],\n",
              "       [30.4],\n",
              "       [29.7],\n",
              "       [24.9],\n",
              "       [29.7],\n",
              "       [30.5],\n",
              "       [30.4],\n",
              "       [27. ],\n",
              "       [24.4],\n",
              "       [28.8],\n",
              "       [23.6],\n",
              "       [22.6],\n",
              "       [24.8],\n",
              "       [27.4],\n",
              "       [28.4],\n",
              "       [29.8],\n",
              "       [26. ],\n",
              "       [23.3],\n",
              "       [25.8],\n",
              "       [29.4],\n",
              "       [26.1],\n",
              "       [29.1],\n",
              "       [30.6],\n",
              "       [28. ],\n",
              "       [23.9],\n",
              "       [28. ],\n",
              "       [27.9],\n",
              "       [27.7],\n",
              "       [30.3],\n",
              "       [30.8],\n",
              "       [31. ],\n",
              "       [32.5],\n",
              "       [32.8],\n",
              "       [24.8],\n",
              "       [28.7],\n",
              "       [33.5],\n",
              "       [31.3],\n",
              "       [29. ],\n",
              "       [29.1],\n",
              "       [32.4],\n",
              "       [32.4],\n",
              "       [31.5],\n",
              "       [31. ],\n",
              "       [29.8],\n",
              "       [28.2],\n",
              "       [26.7],\n",
              "       [24.1],\n",
              "       [22.4],\n",
              "       [29. ]])"
            ]
          },
          "metadata": {},
          "execution_count": 24
        }
      ]
    },
    {
      "cell_type": "code",
      "source": [
        "y = new_df['Consumo de cerveja (litros)']\n",
        "y"
      ],
      "metadata": {
        "colab": {
          "base_uri": "https://localhost:8080/"
        },
        "id": "qmCPW4Le2wDa",
        "outputId": "6796970d-e22b-4046-9f4e-a8e65a2fd72f"
      },
      "execution_count": 25,
      "outputs": [
        {
          "output_type": "execute_result",
          "data": {
            "text/plain": [
              "0      25.461\n",
              "1      28.972\n",
              "2      30.814\n",
              "3      29.799\n",
              "4      28.900\n",
              "        ...  \n",
              "360    32.307\n",
              "361    26.095\n",
              "362    22.309\n",
              "363    20.467\n",
              "364    22.446\n",
              "Name: Consumo de cerveja (litros), Length: 365, dtype: float64"
            ]
          },
          "metadata": {},
          "execution_count": 25
        }
      ]
    },
    {
      "cell_type": "code",
      "source": [
        "y_npy = y.values\n",
        "y_npy"
      ],
      "metadata": {
        "colab": {
          "base_uri": "https://localhost:8080/"
        },
        "id": "Ra8pWuEs284Z",
        "outputId": "c7b0fe8d-1fd8-461b-f319-ee2c1f845ca6"
      },
      "execution_count": 26,
      "outputs": [
        {
          "output_type": "execute_result",
          "data": {
            "text/plain": [
              "array([25.461, 28.972, 30.814, 29.799, 28.9  , 28.218, 29.732, 28.397,\n",
              "       24.886, 37.937, 36.254, 25.743, 26.99 , 31.825, 25.724, 29.938,\n",
              "       37.69 , 30.524, 29.265, 35.127, 29.13 , 25.795, 21.784, 28.348,\n",
              "       31.088, 21.52 , 29.972, 22.603, 22.696, 26.845, 27.03 , 32.057,\n",
              "       24.097, 31.655, 24.738, 19.95 , 22.821, 28.893, 29.926, 24.062,\n",
              "       21.137, 26.805, 26.389, 24.219, 30.231, 24.968, 25.343, 17.399,\n",
              "       21.392, 22.922, 24.567, 30.943, 30.825, 25.692, 26.959, 25.366,\n",
              "       22.784, 26.241, 26.467, 27.475, 28.749, 24.146, 22.988, 30.3  ,\n",
              "       22.654, 29.09 , 24.619, 20.016, 23.042, 22.933, 22.409, 21.281,\n",
              "       28.844, 32.872, 20.903, 26.275, 20.167, 23.628, 24.213, 28.631,\n",
              "       25.855, 21.406, 21.617, 22.401, 27.989, 24.974, 29.76 , 26.116,\n",
              "       25.85 , 24.925, 21.979, 22.116, 24.867, 33.45 , 32.713, 22.356,\n",
              "       21.004, 23.362, 20.298, 24.862, 30.505, 25.07 , 22.62 , 22.001,\n",
              "       23.469, 21.735, 21.593, 33.822, 28.028, 24.304, 31.108, 19.113,\n",
              "       23.198, 24.388, 27.42 , 30.479, 21.838, 20.812, 19.761, 20.452,\n",
              "       17.939, 25.272, 28.049, 25.317, 21.826, 20.68 , 19.143, 18.146,\n",
              "       25.489, 23.537, 16.956, 19.052, 17.287, 20.3  , 20.538, 23.702,\n",
              "       28.411, 21.073, 24.215, 19.525, 20.786, 20.429, 27.25 , 31.387,\n",
              "       26.075, 22.162, 24.258, 24.683, 21.245, 25.937, 26.081, 16.228,\n",
              "       20.106, 21.055, 22.772, 25.142, 31.129, 30.498, 26.15 , 21.327,\n",
              "       22.008, 24.615, 22.375, 29.607, 32.983, 19.119, 21.029, 23.898,\n",
              "       24.534, 16.748, 23.055, 28.857, 23.022, 27.146, 17.241, 19.463,\n",
              "       21.86 , 24.227, 27.594, 24.863, 20.161, 20.824, 19.727, 14.94 ,\n",
              "       24.632, 21.294, 18.448, 21.237, 19.849, 20.74 , 25.698, 26.691,\n",
              "       33.298, 25.64 , 23.937, 28.742, 21.748, 22.032, 24.827, 32.473,\n",
              "       20.62 , 21.825, 14.343, 19.029, 21.104, 20.738, 25.233, 18.975,\n",
              "       19.64 , 22.522, 24.227, 24.726, 32.467, 31.663, 25.867, 27.724,\n",
              "       22.039, 26.127, 26.58 , 31.31 , 33.517, 23.181, 24.183, 24.594,\n",
              "       22.61 , 25.479, 29.621, 26.272, 22.541, 23.07 , 26.021, 17.655,\n",
              "       23.243, 30.177, 27.518, 23.21 , 21.092, 23.357, 17.888, 22.217,\n",
              "       31.681, 31.833, 28.441, 22.389, 20.681, 24.222, 19.345, 21.827,\n",
              "       23.566, 20.227, 17.075, 16.977, 21.525, 21.454, 21.814, 21.252,\n",
              "       20.464, 30.775, 25.343, 33.93 , 26.311, 31.836, 34.695, 29.829,\n",
              "       26.362, 32.589, 30.345, 29.411, 29.637, 32.184, 17.731, 24.114,\n",
              "       28.034, 22.664, 27.488, 24.876, 24.862, 24.679, 22.304, 30.329,\n",
              "       33.182, 23.849, 33.33 , 34.496, 26.249, 26.523, 26.793, 35.861,\n",
              "       27.387, 32.666, 22.199, 24.   , 27.871, 31.139, 23.065, 26.594,\n",
              "       27.657, 26.594, 28.084, 27.582, 24.862, 22.634, 31.649, 35.781,\n",
              "       24.429, 20.648, 22.741, 21.479, 23.134, 20.575, 24.33 , 28.61 ,\n",
              "       28.456, 27.964, 29.569, 29.267, 28.647, 26.836, 29.386, 24.609,\n",
              "       26.964, 23.614, 22.96 , 20.332, 30.392, 31.933, 21.662, 21.689,\n",
              "       25.119, 25.285, 28.979, 34.382, 30.617, 20.238, 24.529, 30.471,\n",
              "       28.405, 29.513, 32.451, 32.78 , 23.375, 27.713, 27.137, 22.933,\n",
              "       30.74 , 29.579, 29.188, 28.131, 28.617, 21.062, 24.337, 27.042,\n",
              "       32.536, 30.127, 24.834, 26.828, 26.468, 31.572, 26.308, 21.955,\n",
              "       32.307, 26.095, 22.309, 20.467, 22.446])"
            ]
          },
          "metadata": {},
          "execution_count": 26
        }
      ]
    },
    {
      "cell_type": "markdown",
      "source": [
        "# Separating the dataset into 20% for testing and 80% for training."
      ],
      "metadata": {
        "id": "CI9Rm7Vc3BfZ"
      }
    },
    {
      "cell_type": "code",
      "source": [
        "from sklearn.model_selection import train_test_split "
      ],
      "metadata": {
        "id": "QWAgaUP23C2I"
      },
      "execution_count": 27,
      "outputs": []
    },
    {
      "cell_type": "code",
      "source": [
        "from pandas.core.common import random_state\n",
        "x_train, x_test, y_train, y_test = train_test_split (x, y, test_size = 0.2, random_state = 100)"
      ],
      "metadata": {
        "id": "k78FnGwC3GWx"
      },
      "execution_count": 28,
      "outputs": []
    },
    {
      "cell_type": "markdown",
      "source": [
        "#Checking training and test set sizes"
      ],
      "metadata": {
        "id": "dy0UUOK63KUZ"
      }
    },
    {
      "cell_type": "code",
      "source": [
        "print(f'x_train.shape = {x_train.shape}')\n",
        "print(f'y_train.shape = {y_train.shape}')"
      ],
      "metadata": {
        "colab": {
          "base_uri": "https://localhost:8080/"
        },
        "id": "_ZKx-Vws3L4o",
        "outputId": "3cde87c8-165f-4792-d770-a4d3f86de0da"
      },
      "execution_count": 29,
      "outputs": [
        {
          "output_type": "stream",
          "name": "stdout",
          "text": [
            "x_train.shape = (292, 1)\n",
            "y_train.shape = (292,)\n"
          ]
        }
      ]
    },
    {
      "cell_type": "code",
      "source": [
        "print(f'x_test.shape = {x_test.shape}')\n",
        "print(f'y_test.shape = {y_test.shape}')"
      ],
      "metadata": {
        "colab": {
          "base_uri": "https://localhost:8080/"
        },
        "id": "T7Yg4-dp3O4r",
        "outputId": "9befc6bc-c3c0-4cfd-e332-5ea099c9fa48"
      },
      "execution_count": 30,
      "outputs": [
        {
          "output_type": "stream",
          "name": "stdout",
          "text": [
            "x_test.shape = (73, 1)\n",
            "y_test.shape = (73,)\n"
          ]
        }
      ]
    },
    {
      "cell_type": "markdown",
      "source": [
        "#Training the Linear Regression model with the training set"
      ],
      "metadata": {
        "id": "pFbajpIN3V8B"
      }
    },
    {
      "cell_type": "code",
      "source": [
        "from sklearn.linear_model import LinearRegression"
      ],
      "metadata": {
        "id": "DJUGo5xG3Z_K"
      },
      "execution_count": 31,
      "outputs": []
    },
    {
      "cell_type": "code",
      "source": [
        "reg = LinearRegression()\n",
        "reg"
      ],
      "metadata": {
        "colab": {
          "base_uri": "https://localhost:8080/"
        },
        "id": "oY2wjoY23b45",
        "outputId": "df5e551c-58a3-49a9-92fa-30415b60bb28"
      },
      "execution_count": 32,
      "outputs": [
        {
          "output_type": "execute_result",
          "data": {
            "text/plain": [
              "LinearRegression()"
            ]
          },
          "metadata": {},
          "execution_count": 32
        }
      ]
    },
    {
      "cell_type": "code",
      "source": [
        "reg.fit(x_train, y_train)"
      ],
      "metadata": {
        "colab": {
          "base_uri": "https://localhost:8080/"
        },
        "id": "aNkb-KM-3eSJ",
        "outputId": "859e4e88-4000-4163-d58b-ae6794ba3617"
      },
      "execution_count": 33,
      "outputs": [
        {
          "output_type": "execute_result",
          "data": {
            "text/plain": [
              "LinearRegression()"
            ]
          },
          "metadata": {},
          "execution_count": 33
        }
      ]
    },
    {
      "cell_type": "markdown",
      "source": [
        "#Finding the coefficients theta0 e theta1 -> h(x) = 6.343477335840262 + 0.71295199 * x"
      ],
      "metadata": {
        "id": "sg5vUOIj4i6K"
      }
    },
    {
      "cell_type": "code",
      "source": [
        "reg.intercept_ "
      ],
      "metadata": {
        "colab": {
          "base_uri": "https://localhost:8080/"
        },
        "id": "dsbmMfOh4lkh",
        "outputId": "af56569e-595c-4c39-cd0b-e77dd86beebf"
      },
      "execution_count": 34,
      "outputs": [
        {
          "output_type": "execute_result",
          "data": {
            "text/plain": [
              "6.343477335840262"
            ]
          },
          "metadata": {},
          "execution_count": 34
        }
      ]
    },
    {
      "cell_type": "code",
      "source": [
        "reg.coef_ "
      ],
      "metadata": {
        "colab": {
          "base_uri": "https://localhost:8080/"
        },
        "id": "VA_oIpsQ5EvS",
        "outputId": "d13f7b19-5d11-4734-8c75-120f898b2c49"
      },
      "execution_count": 35,
      "outputs": [
        {
          "output_type": "execute_result",
          "data": {
            "text/plain": [
              "array([0.71295199])"
            ]
          },
          "metadata": {},
          "execution_count": 35
        }
      ]
    },
    {
      "cell_type": "markdown",
      "source": [
        "#Printing the coefficient of determination (R²) of the linear model with the training set"
      ],
      "metadata": {
        "id": "5iUi29DU7OZD"
      }
    },
    {
      "cell_type": "code",
      "source": [
        "print(f'R² = {reg.score(x_train, y_train)}')"
      ],
      "metadata": {
        "colab": {
          "base_uri": "https://localhost:8080/"
        },
        "id": "A7vGGeli7QN8",
        "outputId": "7c95579f-4d7a-4c78-ee2c-bcd365b9ec1e"
      },
      "execution_count": 36,
      "outputs": [
        {
          "output_type": "stream",
          "name": "stdout",
          "text": [
            "R² = 0.4430330249418445\n"
          ]
        }
      ]
    },
    {
      "cell_type": "markdown",
      "source": [
        "#Size prediction for the test set (testing and evaluating data)"
      ],
      "metadata": {
        "id": "OYW-x78M_AZJ"
      }
    },
    {
      "cell_type": "code",
      "source": [
        "x_test"
      ],
      "metadata": {
        "colab": {
          "base_uri": "https://localhost:8080/",
          "height": 424
        },
        "id": "Y77swLxd_Bb5",
        "outputId": "57675024-082e-4a7e-aad8-c8bbf12934c4"
      },
      "execution_count": 37,
      "outputs": [
        {
          "output_type": "execute_result",
          "data": {
            "text/plain": [
              "     Temperatura Maxima (C)\n",
              "147                    23.2\n",
              "125                    20.4\n",
              "314                    32.7\n",
              "56                     30.3\n",
              "241                    32.0\n",
              "..                      ...\n",
              "136                    22.4\n",
              "191                    19.8\n",
              "360                    28.2\n",
              "3                      28.6\n",
              "20                     30.9\n",
              "\n",
              "[73 rows x 1 columns]"
            ],
            "text/html": [
              "\n",
              "  <div id=\"df-c53f74e9-6033-45ff-9c50-6c279e8f6578\">\n",
              "    <div class=\"colab-df-container\">\n",
              "      <div>\n",
              "<style scoped>\n",
              "    .dataframe tbody tr th:only-of-type {\n",
              "        vertical-align: middle;\n",
              "    }\n",
              "\n",
              "    .dataframe tbody tr th {\n",
              "        vertical-align: top;\n",
              "    }\n",
              "\n",
              "    .dataframe thead th {\n",
              "        text-align: right;\n",
              "    }\n",
              "</style>\n",
              "<table border=\"1\" class=\"dataframe\">\n",
              "  <thead>\n",
              "    <tr style=\"text-align: right;\">\n",
              "      <th></th>\n",
              "      <th>Temperatura Maxima (C)</th>\n",
              "    </tr>\n",
              "  </thead>\n",
              "  <tbody>\n",
              "    <tr>\n",
              "      <th>147</th>\n",
              "      <td>23.2</td>\n",
              "    </tr>\n",
              "    <tr>\n",
              "      <th>125</th>\n",
              "      <td>20.4</td>\n",
              "    </tr>\n",
              "    <tr>\n",
              "      <th>314</th>\n",
              "      <td>32.7</td>\n",
              "    </tr>\n",
              "    <tr>\n",
              "      <th>56</th>\n",
              "      <td>30.3</td>\n",
              "    </tr>\n",
              "    <tr>\n",
              "      <th>241</th>\n",
              "      <td>32.0</td>\n",
              "    </tr>\n",
              "    <tr>\n",
              "      <th>...</th>\n",
              "      <td>...</td>\n",
              "    </tr>\n",
              "    <tr>\n",
              "      <th>136</th>\n",
              "      <td>22.4</td>\n",
              "    </tr>\n",
              "    <tr>\n",
              "      <th>191</th>\n",
              "      <td>19.8</td>\n",
              "    </tr>\n",
              "    <tr>\n",
              "      <th>360</th>\n",
              "      <td>28.2</td>\n",
              "    </tr>\n",
              "    <tr>\n",
              "      <th>3</th>\n",
              "      <td>28.6</td>\n",
              "    </tr>\n",
              "    <tr>\n",
              "      <th>20</th>\n",
              "      <td>30.9</td>\n",
              "    </tr>\n",
              "  </tbody>\n",
              "</table>\n",
              "<p>73 rows × 1 columns</p>\n",
              "</div>\n",
              "      <button class=\"colab-df-convert\" onclick=\"convertToInteractive('df-c53f74e9-6033-45ff-9c50-6c279e8f6578')\"\n",
              "              title=\"Convert this dataframe to an interactive table.\"\n",
              "              style=\"display:none;\">\n",
              "        \n",
              "  <svg xmlns=\"http://www.w3.org/2000/svg\" height=\"24px\"viewBox=\"0 0 24 24\"\n",
              "       width=\"24px\">\n",
              "    <path d=\"M0 0h24v24H0V0z\" fill=\"none\"/>\n",
              "    <path d=\"M18.56 5.44l.94 2.06.94-2.06 2.06-.94-2.06-.94-.94-2.06-.94 2.06-2.06.94zm-11 1L8.5 8.5l.94-2.06 2.06-.94-2.06-.94L8.5 2.5l-.94 2.06-2.06.94zm10 10l.94 2.06.94-2.06 2.06-.94-2.06-.94-.94-2.06-.94 2.06-2.06.94z\"/><path d=\"M17.41 7.96l-1.37-1.37c-.4-.4-.92-.59-1.43-.59-.52 0-1.04.2-1.43.59L10.3 9.45l-7.72 7.72c-.78.78-.78 2.05 0 2.83L4 21.41c.39.39.9.59 1.41.59.51 0 1.02-.2 1.41-.59l7.78-7.78 2.81-2.81c.8-.78.8-2.07 0-2.86zM5.41 20L4 18.59l7.72-7.72 1.47 1.35L5.41 20z\"/>\n",
              "  </svg>\n",
              "      </button>\n",
              "      \n",
              "  <style>\n",
              "    .colab-df-container {\n",
              "      display:flex;\n",
              "      flex-wrap:wrap;\n",
              "      gap: 12px;\n",
              "    }\n",
              "\n",
              "    .colab-df-convert {\n",
              "      background-color: #E8F0FE;\n",
              "      border: none;\n",
              "      border-radius: 50%;\n",
              "      cursor: pointer;\n",
              "      display: none;\n",
              "      fill: #1967D2;\n",
              "      height: 32px;\n",
              "      padding: 0 0 0 0;\n",
              "      width: 32px;\n",
              "    }\n",
              "\n",
              "    .colab-df-convert:hover {\n",
              "      background-color: #E2EBFA;\n",
              "      box-shadow: 0px 1px 2px rgba(60, 64, 67, 0.3), 0px 1px 3px 1px rgba(60, 64, 67, 0.15);\n",
              "      fill: #174EA6;\n",
              "    }\n",
              "\n",
              "    [theme=dark] .colab-df-convert {\n",
              "      background-color: #3B4455;\n",
              "      fill: #D2E3FC;\n",
              "    }\n",
              "\n",
              "    [theme=dark] .colab-df-convert:hover {\n",
              "      background-color: #434B5C;\n",
              "      box-shadow: 0px 1px 3px 1px rgba(0, 0, 0, 0.15);\n",
              "      filter: drop-shadow(0px 1px 2px rgba(0, 0, 0, 0.3));\n",
              "      fill: #FFFFFF;\n",
              "    }\n",
              "  </style>\n",
              "\n",
              "      <script>\n",
              "        const buttonEl =\n",
              "          document.querySelector('#df-c53f74e9-6033-45ff-9c50-6c279e8f6578 button.colab-df-convert');\n",
              "        buttonEl.style.display =\n",
              "          google.colab.kernel.accessAllowed ? 'block' : 'none';\n",
              "\n",
              "        async function convertToInteractive(key) {\n",
              "          const element = document.querySelector('#df-c53f74e9-6033-45ff-9c50-6c279e8f6578');\n",
              "          const dataTable =\n",
              "            await google.colab.kernel.invokeFunction('convertToInteractive',\n",
              "                                                     [key], {});\n",
              "          if (!dataTable) return;\n",
              "\n",
              "          const docLinkHtml = 'Like what you see? Visit the ' +\n",
              "            '<a target=\"_blank\" href=https://colab.research.google.com/notebooks/data_table.ipynb>data table notebook</a>'\n",
              "            + ' to learn more about interactive tables.';\n",
              "          element.innerHTML = '';\n",
              "          dataTable['output_type'] = 'display_data';\n",
              "          await google.colab.output.renderOutput(dataTable, element);\n",
              "          const docLink = document.createElement('div');\n",
              "          docLink.innerHTML = docLinkHtml;\n",
              "          element.appendChild(docLink);\n",
              "        }\n",
              "      </script>\n",
              "    </div>\n",
              "  </div>\n",
              "  "
            ]
          },
          "metadata": {},
          "execution_count": 37
        }
      ]
    },
    {
      "cell_type": "code",
      "source": [
        "y_test"
      ],
      "metadata": {
        "colab": {
          "base_uri": "https://localhost:8080/"
        },
        "id": "is2CjuTZ_EzR",
        "outputId": "08e32d0d-958a-4390-902b-bb48e3612473"
      },
      "execution_count": 38,
      "outputs": [
        {
          "output_type": "execute_result",
          "data": {
            "text/plain": [
              "147    24.683\n",
              "125    20.680\n",
              "314    29.569\n",
              "56     22.784\n",
              "241    31.833\n",
              "        ...  \n",
              "136    28.411\n",
              "191    26.691\n",
              "360    32.307\n",
              "3      29.799\n",
              "20     29.130\n",
              "Name: Consumo de cerveja (litros), Length: 73, dtype: float64"
            ]
          },
          "metadata": {},
          "execution_count": 38
        }
      ]
    },
    {
      "cell_type": "code",
      "source": [
        "y_pred = reg.predict(x_test)\n",
        "y_pred"
      ],
      "metadata": {
        "colab": {
          "base_uri": "https://localhost:8080/"
        },
        "id": "ZYlyCkKK_GnJ",
        "outputId": "9d751efd-1b47-4d74-fe56-017528f50256"
      },
      "execution_count": 39,
      "outputs": [
        {
          "output_type": "execute_result",
          "data": {
            "text/plain": [
              "array([22.88396353, 20.88769796, 29.65700745, 27.94592267, 29.15794106,\n",
              "       23.66821072, 26.44872349, 26.37742829, 25.02281951, 30.22736904,\n",
              "       26.44872349, 25.02281951, 21.45805955, 19.24790838, 23.52562033,\n",
              "       22.67007794, 23.73950592, 26.94778988, 29.72830265, 24.95152431,\n",
              "       26.87649469, 21.17287875, 26.37742829, 20.60251716, 26.0209523 ,\n",
              "       28.01721787, 30.94032104, 27.58944668, 20.60251716, 26.66260909,\n",
              "       24.95152431, 17.4655284 , 29.01535066, 26.66260909, 24.88022911,\n",
              "       26.52001869, 22.59878274, 25.7357715 , 20.31733637, 29.22923626,\n",
              "       20.74510756, 22.02842114, 30.22736904, 26.23483789, 28.08851307,\n",
              "       25.8070667 , 23.73950592, 26.16354269, 21.52935475, 23.31173473,\n",
              "       27.16167548, 24.59504831, 23.88209632, 19.81826997, 25.02281951,\n",
              "       19.10531798, 29.51441705, 27.66074188, 32.36622502, 25.8070667 ,\n",
              "       25.23670511, 25.8783619 , 28.58757946, 18.74884198, 27.44685628,\n",
              "       28.44498907, 24.59504831, 30.36995944, 22.31360194, 20.45992676,\n",
              "       26.44872349, 26.73390429, 28.37369387])"
            ]
          },
          "metadata": {},
          "execution_count": 39
        }
      ]
    },
    {
      "cell_type": "code",
      "source": [
        "type(y_pred)"
      ],
      "metadata": {
        "colab": {
          "base_uri": "https://localhost:8080/"
        },
        "id": "5zTEn_dH_IOJ",
        "outputId": "3971e91c-f3aa-4838-82b9-e99ff7d2f3bc"
      },
      "execution_count": 40,
      "outputs": [
        {
          "output_type": "execute_result",
          "data": {
            "text/plain": [
              "numpy.ndarray"
            ]
          },
          "metadata": {},
          "execution_count": 40
        }
      ]
    },
    {
      "cell_type": "code",
      "source": [
        "y_pred.shape"
      ],
      "metadata": {
        "colab": {
          "base_uri": "https://localhost:8080/"
        },
        "id": "w082McJA_Jd6",
        "outputId": "26bdc23b-7c6b-49a3-d561-a2ba078f6f6e"
      },
      "execution_count": 41,
      "outputs": [
        {
          "output_type": "execute_result",
          "data": {
            "text/plain": [
              "(73,)"
            ]
          },
          "metadata": {},
          "execution_count": 41
        }
      ]
    },
    {
      "cell_type": "markdown",
      "source": [
        "##Creating the Dataframe table"
      ],
      "metadata": {
        "id": "Id_2TolS_M1g"
      }
    },
    {
      "cell_type": "code",
      "source": [
        "results = pd.DataFrame({\n",
        "    'Maximum temperature (C)': x_test['Temperatura Maxima (C)'],\n",
        "    'Beer Consumption (liters) (Prediction)': y_pred.round(2),\n",
        "    'Beer Consumption (liters) (Real One)': y_test.round(2),\n",
        "    'Error (Residual)': (y_test - y_pred).round(2),\n",
        "    'Error (Absolute)': abs(y_test - y_pred).round(2),\n",
        "})\n",
        "results.describe()"
      ],
      "metadata": {
        "colab": {
          "base_uri": "https://localhost:8080/",
          "height": 300
        },
        "id": "hRe8Gnz7_Kz6",
        "outputId": "f868b364-b84a-4913-c38d-51ec6f6765f4"
      },
      "execution_count": 42,
      "outputs": [
        {
          "output_type": "execute_result",
          "data": {
            "text/plain": [
              "       Maximum temperature (C)  Beer Consumption (liters) (Prediction)  \\\n",
              "count                73.000000                               73.000000   \n",
              "mean                 26.546575                               25.270548   \n",
              "std                   4.662113                                3.323786   \n",
              "min                  15.600000                               17.470000   \n",
              "25%                  23.200000                               22.880000   \n",
              "50%                  27.300000                               25.810000   \n",
              "75%                  29.800000                               27.590000   \n",
              "max                  36.500000                               32.370000   \n",
              "\n",
              "       Beer Consumption (liters) (Real One)  Error (Residual)  \\\n",
              "count                             73.000000         73.000000   \n",
              "mean                              25.695890          0.425616   \n",
              "std                                3.815106          3.358340   \n",
              "min                               17.290000         -5.160000   \n",
              "25%                               22.770000         -2.170000   \n",
              "50%                               26.020000          0.400000   \n",
              "75%                               28.410000          3.260000   \n",
              "max                               32.980000          7.180000   \n",
              "\n",
              "       Error (Absolute)  \n",
              "count         73.000000  \n",
              "mean           2.754110  \n",
              "std            1.942071  \n",
              "min            0.090000  \n",
              "25%            0.840000  \n",
              "50%            2.680000  \n",
              "75%            4.300000  \n",
              "max            7.180000  "
            ],
            "text/html": [
              "\n",
              "  <div id=\"df-f3ee2bd7-9d57-44eb-9baa-7aa71bc1eab2\">\n",
              "    <div class=\"colab-df-container\">\n",
              "      <div>\n",
              "<style scoped>\n",
              "    .dataframe tbody tr th:only-of-type {\n",
              "        vertical-align: middle;\n",
              "    }\n",
              "\n",
              "    .dataframe tbody tr th {\n",
              "        vertical-align: top;\n",
              "    }\n",
              "\n",
              "    .dataframe thead th {\n",
              "        text-align: right;\n",
              "    }\n",
              "</style>\n",
              "<table border=\"1\" class=\"dataframe\">\n",
              "  <thead>\n",
              "    <tr style=\"text-align: right;\">\n",
              "      <th></th>\n",
              "      <th>Maximum temperature (C)</th>\n",
              "      <th>Beer Consumption (liters) (Prediction)</th>\n",
              "      <th>Beer Consumption (liters) (Real One)</th>\n",
              "      <th>Error (Residual)</th>\n",
              "      <th>Error (Absolute)</th>\n",
              "    </tr>\n",
              "  </thead>\n",
              "  <tbody>\n",
              "    <tr>\n",
              "      <th>count</th>\n",
              "      <td>73.000000</td>\n",
              "      <td>73.000000</td>\n",
              "      <td>73.000000</td>\n",
              "      <td>73.000000</td>\n",
              "      <td>73.000000</td>\n",
              "    </tr>\n",
              "    <tr>\n",
              "      <th>mean</th>\n",
              "      <td>26.546575</td>\n",
              "      <td>25.270548</td>\n",
              "      <td>25.695890</td>\n",
              "      <td>0.425616</td>\n",
              "      <td>2.754110</td>\n",
              "    </tr>\n",
              "    <tr>\n",
              "      <th>std</th>\n",
              "      <td>4.662113</td>\n",
              "      <td>3.323786</td>\n",
              "      <td>3.815106</td>\n",
              "      <td>3.358340</td>\n",
              "      <td>1.942071</td>\n",
              "    </tr>\n",
              "    <tr>\n",
              "      <th>min</th>\n",
              "      <td>15.600000</td>\n",
              "      <td>17.470000</td>\n",
              "      <td>17.290000</td>\n",
              "      <td>-5.160000</td>\n",
              "      <td>0.090000</td>\n",
              "    </tr>\n",
              "    <tr>\n",
              "      <th>25%</th>\n",
              "      <td>23.200000</td>\n",
              "      <td>22.880000</td>\n",
              "      <td>22.770000</td>\n",
              "      <td>-2.170000</td>\n",
              "      <td>0.840000</td>\n",
              "    </tr>\n",
              "    <tr>\n",
              "      <th>50%</th>\n",
              "      <td>27.300000</td>\n",
              "      <td>25.810000</td>\n",
              "      <td>26.020000</td>\n",
              "      <td>0.400000</td>\n",
              "      <td>2.680000</td>\n",
              "    </tr>\n",
              "    <tr>\n",
              "      <th>75%</th>\n",
              "      <td>29.800000</td>\n",
              "      <td>27.590000</td>\n",
              "      <td>28.410000</td>\n",
              "      <td>3.260000</td>\n",
              "      <td>4.300000</td>\n",
              "    </tr>\n",
              "    <tr>\n",
              "      <th>max</th>\n",
              "      <td>36.500000</td>\n",
              "      <td>32.370000</td>\n",
              "      <td>32.980000</td>\n",
              "      <td>7.180000</td>\n",
              "      <td>7.180000</td>\n",
              "    </tr>\n",
              "  </tbody>\n",
              "</table>\n",
              "</div>\n",
              "      <button class=\"colab-df-convert\" onclick=\"convertToInteractive('df-f3ee2bd7-9d57-44eb-9baa-7aa71bc1eab2')\"\n",
              "              title=\"Convert this dataframe to an interactive table.\"\n",
              "              style=\"display:none;\">\n",
              "        \n",
              "  <svg xmlns=\"http://www.w3.org/2000/svg\" height=\"24px\"viewBox=\"0 0 24 24\"\n",
              "       width=\"24px\">\n",
              "    <path d=\"M0 0h24v24H0V0z\" fill=\"none\"/>\n",
              "    <path d=\"M18.56 5.44l.94 2.06.94-2.06 2.06-.94-2.06-.94-.94-2.06-.94 2.06-2.06.94zm-11 1L8.5 8.5l.94-2.06 2.06-.94-2.06-.94L8.5 2.5l-.94 2.06-2.06.94zm10 10l.94 2.06.94-2.06 2.06-.94-2.06-.94-.94-2.06-.94 2.06-2.06.94z\"/><path d=\"M17.41 7.96l-1.37-1.37c-.4-.4-.92-.59-1.43-.59-.52 0-1.04.2-1.43.59L10.3 9.45l-7.72 7.72c-.78.78-.78 2.05 0 2.83L4 21.41c.39.39.9.59 1.41.59.51 0 1.02-.2 1.41-.59l7.78-7.78 2.81-2.81c.8-.78.8-2.07 0-2.86zM5.41 20L4 18.59l7.72-7.72 1.47 1.35L5.41 20z\"/>\n",
              "  </svg>\n",
              "      </button>\n",
              "      \n",
              "  <style>\n",
              "    .colab-df-container {\n",
              "      display:flex;\n",
              "      flex-wrap:wrap;\n",
              "      gap: 12px;\n",
              "    }\n",
              "\n",
              "    .colab-df-convert {\n",
              "      background-color: #E8F0FE;\n",
              "      border: none;\n",
              "      border-radius: 50%;\n",
              "      cursor: pointer;\n",
              "      display: none;\n",
              "      fill: #1967D2;\n",
              "      height: 32px;\n",
              "      padding: 0 0 0 0;\n",
              "      width: 32px;\n",
              "    }\n",
              "\n",
              "    .colab-df-convert:hover {\n",
              "      background-color: #E2EBFA;\n",
              "      box-shadow: 0px 1px 2px rgba(60, 64, 67, 0.3), 0px 1px 3px 1px rgba(60, 64, 67, 0.15);\n",
              "      fill: #174EA6;\n",
              "    }\n",
              "\n",
              "    [theme=dark] .colab-df-convert {\n",
              "      background-color: #3B4455;\n",
              "      fill: #D2E3FC;\n",
              "    }\n",
              "\n",
              "    [theme=dark] .colab-df-convert:hover {\n",
              "      background-color: #434B5C;\n",
              "      box-shadow: 0px 1px 3px 1px rgba(0, 0, 0, 0.15);\n",
              "      filter: drop-shadow(0px 1px 2px rgba(0, 0, 0, 0.3));\n",
              "      fill: #FFFFFF;\n",
              "    }\n",
              "  </style>\n",
              "\n",
              "      <script>\n",
              "        const buttonEl =\n",
              "          document.querySelector('#df-f3ee2bd7-9d57-44eb-9baa-7aa71bc1eab2 button.colab-df-convert');\n",
              "        buttonEl.style.display =\n",
              "          google.colab.kernel.accessAllowed ? 'block' : 'none';\n",
              "\n",
              "        async function convertToInteractive(key) {\n",
              "          const element = document.querySelector('#df-f3ee2bd7-9d57-44eb-9baa-7aa71bc1eab2');\n",
              "          const dataTable =\n",
              "            await google.colab.kernel.invokeFunction('convertToInteractive',\n",
              "                                                     [key], {});\n",
              "          if (!dataTable) return;\n",
              "\n",
              "          const docLinkHtml = 'Like what you see? Visit the ' +\n",
              "            '<a target=\"_blank\" href=https://colab.research.google.com/notebooks/data_table.ipynb>data table notebook</a>'\n",
              "            + ' to learn more about interactive tables.';\n",
              "          element.innerHTML = '';\n",
              "          dataTable['output_type'] = 'display_data';\n",
              "          await google.colab.output.renderOutput(dataTable, element);\n",
              "          const docLink = document.createElement('div');\n",
              "          docLink.innerHTML = docLinkHtml;\n",
              "          element.appendChild(docLink);\n",
              "        }\n",
              "      </script>\n",
              "    </div>\n",
              "  </div>\n",
              "  "
            ]
          },
          "metadata": {},
          "execution_count": 42
        }
      ]
    },
    {
      "cell_type": "markdown",
      "source": [
        "# Making the prediction graphs"
      ],
      "metadata": {
        "id": "cIaGIY5z_3OY"
      }
    },
    {
      "cell_type": "code",
      "source": [
        "regression_line_x = x['Temperatura Maxima (C)']\n",
        "regression_line_y = reg.predict(x)\n",
        "regression_line_y"
      ],
      "metadata": {
        "colab": {
          "base_uri": "https://localhost:8080/"
        },
        "id": "6aK2EEcj_1Qi",
        "outputId": "e25d6265-868b-412d-ce23-90b91c67367d"
      },
      "execution_count": 43,
      "outputs": [
        {
          "output_type": "execute_result",
          "data": {
            "text/plain": [
              "array([29.51441705, 30.22736904, 27.66074188, 26.73390429, 26.52001869,\n",
              "       28.08851307, 30.36995944, 29.72830265, 30.58384504, 30.72643544,\n",
              "       31.15420663, 31.58197783, 31.15420663, 30.58384504, 29.72830265,\n",
              "       29.65700745, 31.86715862, 31.72456823, 32.36622502, 31.72456823,\n",
              "       28.37369387, 24.95152431, 24.95152431, 27.30426588, 27.73203707,\n",
              "       26.80519949, 26.80519949, 27.66074188, 27.16167548, 25.5218859 ,\n",
              "       23.66821072, 26.30613309, 25.23670511, 28.51628427, 23.24043953,\n",
              "       22.67007794, 24.45245791, 26.80519949, 27.37556108, 28.23110347,\n",
              "       27.01908508, 28.01721787, 29.65700745, 29.22923626, 28.87276026,\n",
              "       26.0209523 , 25.8070667 , 26.30613309, 25.16540991, 26.66260909,\n",
              "       26.44872349, 28.51628427, 28.30239867, 28.73016986, 29.08664586,\n",
              "       27.23297068, 27.94592267, 28.73016986, 26.09224749, 25.09411471,\n",
              "       27.16167548, 27.37556108, 28.08851307, 28.87276026, 26.66260909,\n",
              "       25.3080003 , 23.73950592, 22.95525873, 25.5218859 , 26.37742829,\n",
              "       25.5218859 , 25.3080003 , 26.23483789, 25.4505907 , 27.30426588,\n",
              "       24.59504831, 23.52562033, 25.6644763 , 26.44872349, 24.38116272,\n",
              "       22.59878274, 22.95525873, 25.09411471, 26.23483789, 27.58944668,\n",
              "       28.30239867, 27.37556108, 25.3080003 , 24.80893391, 27.01908508,\n",
              "       25.9496571 , 25.02281951, 25.7357715 , 27.30426588, 25.16540991,\n",
              "       26.09224749, 20.60251716, 23.66821072, 24.59504831, 24.52375311,\n",
              "       26.59131389, 24.66634351, 24.66634351, 26.87649469, 25.8783619 ,\n",
              "       25.3792955 , 25.5931811 , 27.23297068, 25.7357715 , 27.16167548,\n",
              "       27.01908508, 21.74324035, 24.09598192, 26.37742829, 22.95525873,\n",
              "       23.24043953, 24.09598192, 25.5218859 , 22.52748754, 19.67567957,\n",
              "       22.02842114, 25.16540991, 25.09411471, 22.24230674, 21.17287875,\n",
              "       20.88769796, 21.81453555, 20.03215557, 24.95152431, 21.31546915,\n",
              "       21.03028836, 21.81453555, 19.81826997, 21.31546915, 21.67194515,\n",
              "       22.24230674, 22.31360194, 21.52935475, 22.67007794, 22.95525873,\n",
              "       24.16727712, 24.45245791, 23.73950592, 25.09411471, 25.8783619 ,\n",
              "       24.02468672, 25.6644763 , 22.88396353, 21.95712595, 22.67007794,\n",
              "       19.46179398, 19.17661318, 18.82013718, 21.81453555, 23.52562033,\n",
              "       24.38116272, 24.95152431, 25.02281951, 25.16540991, 24.88022911,\n",
              "       25.02281951, 25.5218859 , 23.09784913, 25.8783619 , 25.8070667 ,\n",
              "       23.02655393, 19.24790838, 24.23857232, 25.02281951, 18.96272758,\n",
              "       20.88769796, 23.88209632, 23.88209632, 24.52375311, 19.17661318,\n",
              "       18.74884198, 21.24417395, 21.17287875, 21.88583075, 23.73950592,\n",
              "       24.23857232, 20.95899316, 20.53122196, 19.46179398, 21.31546915,\n",
              "       16.68128121, 21.03028836, 20.74510756, 19.67567957, 20.88769796,\n",
              "       24.45245791, 20.45992676, 25.8783619 , 26.80519949, 27.23297068,\n",
              "       26.0209523 , 24.73763871, 23.66821072, 23.31173473, 24.80893391,\n",
              "       24.23857232, 21.60064995, 17.8220044 , 21.03028836, 24.73763871,\n",
              "       19.10531798, 22.67007794, 23.59691553, 23.81080112, 23.31173473,\n",
              "       25.3792955 , 25.3080003 , 25.16540991, 25.09411471, 25.5218859 ,\n",
              "       25.8783619 , 25.7357715 , 26.09224749, 26.94778988, 26.16354269,\n",
              "       25.02281951, 26.30613309, 25.7357715 , 25.3080003 , 26.37742829,\n",
              "       26.0209523 , 26.16354269, 25.7357715 , 26.30613309, 25.23670511,\n",
              "       26.52001869, 20.31733637, 22.09971634, 25.02281951, 27.73203707,\n",
              "       20.95899316, 20.95899316, 23.45432513, 20.45992676, 22.09971634,\n",
              "       25.3792955 , 29.15794106, 29.30053146, 28.23110347, 20.74510756,\n",
              "       24.16727712, 20.10345077, 19.53308917, 20.53122196, 23.73950592,\n",
              "       20.03215557, 22.67007794, 24.59504831, 21.88583075, 17.4655284 ,\n",
              "       17.8220044 , 22.38489714, 27.80333227, 29.58571225, 29.87089305,\n",
              "       30.94032104, 31.65327303, 30.08477865, 29.72830265, 30.08477865,\n",
              "       30.58384504, 31.51068263, 27.94592267, 24.09598192, 28.15980827,\n",
              "       23.16914433, 25.6644763 , 26.0209523 , 25.16540991, 29.65700745,\n",
              "       24.16727712, 21.52935475, 22.31360194, 23.95339152, 29.58571225,\n",
              "       30.58384504, 27.01908508, 26.30613309, 27.73203707, 27.44685628,\n",
              "       26.0209523 , 26.66260909, 31.86715862, 31.79586343, 27.16167548,\n",
              "       20.03215557, 25.7357715 , 31.51068263, 29.15794106, 22.59878274,\n",
              "       25.8070667 , 21.45805955, 20.03215557, 26.66260909, 26.59131389,\n",
              "       23.38302993, 24.02468672, 28.58757946, 27.23297068, 22.31360194,\n",
              "       25.7357715 , 24.59504831, 25.8783619 , 24.02468672, 22.59878274,\n",
              "       20.60251716, 23.38302993, 27.37556108, 29.01535066, 29.65700745,\n",
              "       29.01535066, 27.44685628, 28.01721787, 27.51815148, 24.09598192,\n",
              "       27.51815148, 28.08851307, 28.01721787, 25.5931811 , 23.73950592,\n",
              "       26.87649469, 23.16914433, 22.45619234, 24.02468672, 25.8783619 ,\n",
              "       26.59131389, 27.58944668, 24.88022911, 22.95525873, 24.73763871,\n",
              "       27.30426588, 24.95152431, 27.09038028, 28.15980827, 26.30613309,\n",
              "       23.38302993, 26.30613309, 26.23483789, 26.09224749, 27.94592267,\n",
              "       28.30239867, 28.44498907, 29.51441705, 29.72830265, 24.02468672,\n",
              "       26.80519949, 30.22736904, 28.65887466, 27.01908508, 27.09038028,\n",
              "       29.44312185, 29.44312185, 28.80146506, 28.44498907, 27.58944668,\n",
              "       26.44872349, 25.3792955 , 23.52562033, 22.31360194, 27.01908508])"
            ]
          },
          "metadata": {},
          "execution_count": 43
        }
      ]
    },
    {
      "cell_type": "code",
      "source": [
        "fig, axs = plt.subplots(1, 2, figsize=(20, 6), sharex=True, sharey=True)\n",
        "\n",
        "regression_line_x = x['Temperatura Maxima (C)']\n",
        "regression_line_y = reg.predict(x)\n",
        "\n",
        "sns.scatterplot(x=x_train['Temperatura Maxima (C)'], y=y_train, ax=axs[0])\n",
        "sns.lineplot(x=regression_line_x, y=regression_line_y, color=\"red\", ax=axs[0])\n",
        "axs[0].set_title('Beer consumption (liters) vs Maximum Temperature (Celcius) (Training Set)')\n",
        "axs[0].set_xlabel('Maximum Temperature (C)')\n",
        "axs[0].set_ylabel('Consumo de cerveja (litros)')\n",
        "\n",
        "sns.scatterplot(x=x_test['Temperatura Maxima (C)'], y=y_test, color=\"green\", marker='*', s=200, ax=axs[1])\n",
        "sns.lineplot(x=regression_line_x, y=regression_line_y, color=\"red\", ax=axs[1])\n",
        "axs[1].set_title('Beer consumption (liters) vs Maximum Temperature (Celcius) (Test Set)')\n",
        "axs[1].set_xlabel('Maximum Temperature (C)')\n",
        "axs[1].set_ylabel('Beer consumption (liters)')\n",
        "\n",
        "display()"
      ],
      "metadata": {
        "colab": {
          "base_uri": "https://localhost:8080/",
          "height": 413
        },
        "id": "Tt9tZy1RADBx",
        "outputId": "979376ef-d6f6-48fe-f24e-424d3c9779c6"
      },
      "execution_count": 44,
      "outputs": [
        {
          "output_type": "display_data",
          "data": {
            "text/plain": [
              "<Figure size 1440x432 with 2 Axes>"
            ],
            "image/png": "[encoded data removed]"
          },
          "metadata": {
            "needs_background": "light"
          }
        }
      ]
    },
    {
      "cell_type": "code",
      "source": [
        "x_labeled = x.copy()\n",
        "x_labeled['Label'] = 'Train'\n",
        "x_labeled\n",
        "x_labeled.loc[x_test.index, 'Label'] = 'Test'\n",
        "x_labeled"
      ],
      "metadata": {
        "colab": {
          "base_uri": "https://localhost:8080/",
          "height": 424
        },
        "id": "KY4TuloHBKBl",
        "outputId": "2a650932-0b4d-49d7-dbbe-981a4a1d4798"
      },
      "execution_count": 45,
      "outputs": [
        {
          "output_type": "execute_result",
          "data": {
            "text/plain": [
              "     Temperatura Maxima (C)  Label\n",
              "0                      32.5  Train\n",
              "1                      33.5   Test\n",
              "2                      29.9  Train\n",
              "3                      28.6   Test\n",
              "4                      28.3  Train\n",
              "..                      ...    ...\n",
              "360                    28.2   Test\n",
              "361                    26.7  Train\n",
              "362                    24.1  Train\n",
              "363                    22.4  Train\n",
              "364                    29.0  Train\n",
              "\n",
              "[365 rows x 2 columns]"
            ],
            "text/html": [
              "\n",
              "  <div id=\"df-83347dca-493a-4a12-9961-3468bd772dc6\">\n",
              "    <div class=\"colab-df-container\">\n",
              "      <div>\n",
              "<style scoped>\n",
              "    .dataframe tbody tr th:only-of-type {\n",
              "        vertical-align: middle;\n",
              "    }\n",
              "\n",
              "    .dataframe tbody tr th {\n",
              "        vertical-align: top;\n",
              "    }\n",
              "\n",
              "    .dataframe thead th {\n",
              "        text-align: right;\n",
              "    }\n",
              "</style>\n",
              "<table border=\"1\" class=\"dataframe\">\n",
              "  <thead>\n",
              "    <tr style=\"text-align: right;\">\n",
              "      <th></th>\n",
              "      <th>Temperatura Maxima (C)</th>\n",
              "      <th>Label</th>\n",
              "    </tr>\n",
              "  </thead>\n",
              "  <tbody>\n",
              "    <tr>\n",
              "      <th>0</th>\n",
              "      <td>32.5</td>\n",
              "      <td>Train</td>\n",
              "    </tr>\n",
              "    <tr>\n",
              "      <th>1</th>\n",
              "      <td>33.5</td>\n",
              "      <td>Test</td>\n",
              "    </tr>\n",
              "    <tr>\n",
              "      <th>2</th>\n",
              "      <td>29.9</td>\n",
              "      <td>Train</td>\n",
              "    </tr>\n",
              "    <tr>\n",
              "      <th>3</th>\n",
              "      <td>28.6</td>\n",
              "      <td>Test</td>\n",
              "    </tr>\n",
              "    <tr>\n",
              "      <th>4</th>\n",
              "      <td>28.3</td>\n",
              "      <td>Train</td>\n",
              "    </tr>\n",
              "    <tr>\n",
              "      <th>...</th>\n",
              "      <td>...</td>\n",
              "      <td>...</td>\n",
              "    </tr>\n",
              "    <tr>\n",
              "      <th>360</th>\n",
              "      <td>28.2</td>\n",
              "      <td>Test</td>\n",
              "    </tr>\n",
              "    <tr>\n",
              "      <th>361</th>\n",
              "      <td>26.7</td>\n",
              "      <td>Train</td>\n",
              "    </tr>\n",
              "    <tr>\n",
              "      <th>362</th>\n",
              "      <td>24.1</td>\n",
              "      <td>Train</td>\n",
              "    </tr>\n",
              "    <tr>\n",
              "      <th>363</th>\n",
              "      <td>22.4</td>\n",
              "      <td>Train</td>\n",
              "    </tr>\n",
              "    <tr>\n",
              "      <th>364</th>\n",
              "      <td>29.0</td>\n",
              "      <td>Train</td>\n",
              "    </tr>\n",
              "  </tbody>\n",
              "</table>\n",
              "<p>365 rows × 2 columns</p>\n",
              "</div>\n",
              "      <button class=\"colab-df-convert\" onclick=\"convertToInteractive('df-83347dca-493a-4a12-9961-3468bd772dc6')\"\n",
              "              title=\"Convert this dataframe to an interactive table.\"\n",
              "              style=\"display:none;\">\n",
              "        \n",
              "  <svg xmlns=\"http://www.w3.org/2000/svg\" height=\"24px\"viewBox=\"0 0 24 24\"\n",
              "       width=\"24px\">\n",
              "    <path d=\"M0 0h24v24H0V0z\" fill=\"none\"/>\n",
              "    <path d=\"M18.56 5.44l.94 2.06.94-2.06 2.06-.94-2.06-.94-.94-2.06-.94 2.06-2.06.94zm-11 1L8.5 8.5l.94-2.06 2.06-.94-2.06-.94L8.5 2.5l-.94 2.06-2.06.94zm10 10l.94 2.06.94-2.06 2.06-.94-2.06-.94-.94-2.06-.94 2.06-2.06.94z\"/><path d=\"M17.41 7.96l-1.37-1.37c-.4-.4-.92-.59-1.43-.59-.52 0-1.04.2-1.43.59L10.3 9.45l-7.72 7.72c-.78.78-.78 2.05 0 2.83L4 21.41c.39.39.9.59 1.41.59.51 0 1.02-.2 1.41-.59l7.78-7.78 2.81-2.81c.8-.78.8-2.07 0-2.86zM5.41 20L4 18.59l7.72-7.72 1.47 1.35L5.41 20z\"/>\n",
              "  </svg>\n",
              "      </button>\n",
              "      \n",
              "  <style>\n",
              "    .colab-df-container {\n",
              "      display:flex;\n",
              "      flex-wrap:wrap;\n",
              "      gap: 12px;\n",
              "    }\n",
              "\n",
              "    .colab-df-convert {\n",
              "      background-color: #E8F0FE;\n",
              "      border: none;\n",
              "      border-radius: 50%;\n",
              "      cursor: pointer;\n",
              "      display: none;\n",
              "      fill: #1967D2;\n",
              "      height: 32px;\n",
              "      padding: 0 0 0 0;\n",
              "      width: 32px;\n",
              "    }\n",
              "\n",
              "    .colab-df-convert:hover {\n",
              "      background-color: #E2EBFA;\n",
              "      box-shadow: 0px 1px 2px rgba(60, 64, 67, 0.3), 0px 1px 3px 1px rgba(60, 64, 67, 0.15);\n",
              "      fill: #174EA6;\n",
              "    }\n",
              "\n",
              "    [theme=dark] .colab-df-convert {\n",
              "      background-color: #3B4455;\n",
              "      fill: #D2E3FC;\n",
              "    }\n",
              "\n",
              "    [theme=dark] .colab-df-convert:hover {\n",
              "      background-color: #434B5C;\n",
              "      box-shadow: 0px 1px 3px 1px rgba(0, 0, 0, 0.15);\n",
              "      filter: drop-shadow(0px 1px 2px rgba(0, 0, 0, 0.3));\n",
              "      fill: #FFFFFF;\n",
              "    }\n",
              "  </style>\n",
              "\n",
              "      <script>\n",
              "        const buttonEl =\n",
              "          document.querySelector('#df-83347dca-493a-4a12-9961-3468bd772dc6 button.colab-df-convert');\n",
              "        buttonEl.style.display =\n",
              "          google.colab.kernel.accessAllowed ? 'block' : 'none';\n",
              "\n",
              "        async function convertToInteractive(key) {\n",
              "          const element = document.querySelector('#df-83347dca-493a-4a12-9961-3468bd772dc6');\n",
              "          const dataTable =\n",
              "            await google.colab.kernel.invokeFunction('convertToInteractive',\n",
              "                                                     [key], {});\n",
              "          if (!dataTable) return;\n",
              "\n",
              "          const docLinkHtml = 'Like what you see? Visit the ' +\n",
              "            '<a target=\"_blank\" href=https://colab.research.google.com/notebooks/data_table.ipynb>data table notebook</a>'\n",
              "            + ' to learn more about interactive tables.';\n",
              "          element.innerHTML = '';\n",
              "          dataTable['output_type'] = 'display_data';\n",
              "          await google.colab.output.renderOutput(dataTable, element);\n",
              "          const docLink = document.createElement('div');\n",
              "          docLink.innerHTML = docLinkHtml;\n",
              "          element.appendChild(docLink);\n",
              "        }\n",
              "      </script>\n",
              "    </div>\n",
              "  </div>\n",
              "  "
            ]
          },
          "metadata": {},
          "execution_count": 45
        }
      ]
    },
    {
      "cell_type": "markdown",
      "source": [
        "# Final prediction, test and training data"
      ],
      "metadata": {
        "id": "wWK-O86wj8z0"
      }
    },
    {
      "cell_type": "code",
      "source": [
        "sns.scatterplot(data=x_labeled, x='Temperatura Maxima (C)', y=y, hue='Label', style='Label', s=100)\n",
        "sns.lineplot(x=regression_line_x, y=regression_line_y, color=\"red\")\n",
        "plt.title('Beer consumption (liters) vs Maximum Temperature (C) (Training and Testing Set)')\n",
        "plt.xlabel('Maximum Temperature (C)')\n",
        "plt.ylabel('Beer consumption (liters)')"
      ],
      "metadata": {
        "colab": {
          "base_uri": "https://localhost:8080/",
          "height": 376
        },
        "id": "0ecu5tV7BMQq",
        "outputId": "bee2590e-79a5-494c-cdad-990d4b3b3ba0"
      },
      "execution_count": 46,
      "outputs": [
        {
          "output_type": "execute_result",
          "data": {
            "text/plain": [
              "Text(0, 0.5, 'Beer consumption (liters)')"
            ]
          },
          "metadata": {},
          "execution_count": 46
        },
        {
          "output_type": "display_data",
          "data": {
            "text/plain": [
              "<Figure size 1080x360 with 1 Axes>"
            ],
            "image/png": "[encoded data removed]"
          },
          "metadata": {
            "needs_background": "light"
          }
        }
      ]
    },
    {
      "cell_type": "markdown",
      "source": [
        "# Error metrics:"
      ],
      "metadata": {
        "id": "EeY0aM38zXqQ"
      }
    },
    {
      "cell_type": "markdown",
      "metadata": {
        "id": "jw5xEKIMifiC"
      },
      "source": [
        "### Mean Absolute Error (MAE):\n",
        "<h4>Used as a base measurement for prediction errors.<h4>"
      ]
    },
    {
      "cell_type": "code",
      "execution_count": 47,
      "metadata": {
        "id": "0LSXROQ1ifiC"
      },
      "outputs": [],
      "source": [
        "from sklearn.metrics import mean_absolute_error"
      ]
    },
    {
      "cell_type": "code",
      "execution_count": 48,
      "metadata": {
        "id": "iMBuChpvifiD",
        "colab": {
          "base_uri": "https://localhost:8080/"
        },
        "outputId": "9be03420-da13-4514-8d9a-4765f9eb8174"
      },
      "outputs": [
        {
          "output_type": "execute_result",
          "data": {
            "text/plain": [
              "2.7537597554489968"
            ]
          },
          "metadata": {},
          "execution_count": 48
        }
      ],
      "source": [
        "MAE = mean_absolute_error(y_test, y_pred)\n",
        "MAE"
      ]
    },
    {
      "cell_type": "markdown",
      "metadata": {
        "id": "EY79GazzifiD"
      },
      "source": [
        "### Mean square error (MSE)\n",
        "<h4> In MSE, larger error variations will return larger MSE values.</h4>"
      ]
    },
    {
      "cell_type": "code",
      "execution_count": 49,
      "metadata": {
        "id": "mh61BuesifiD"
      },
      "outputs": [],
      "source": [
        "from sklearn.metrics import mean_squared_error"
      ]
    },
    {
      "cell_type": "code",
      "execution_count": 50,
      "metadata": {
        "id": "rE1XtB_FifiD",
        "colab": {
          "base_uri": "https://localhost:8080/"
        },
        "outputId": "95bd49df-569b-4d91-fac8-94d607833429"
      },
      "outputs": [
        {
          "output_type": "execute_result",
          "data": {
            "text/plain": [
              "11.301303318532403"
            ]
          },
          "metadata": {},
          "execution_count": 50
        }
      ],
      "source": [
        "MSE = mean_squared_error(y_test, y_pred)\n",
        "MSE"
      ]
    },
    {
      "cell_type": "markdown",
      "metadata": {
        "id": "94uXk6TvifiD"
      },
      "source": [
        "## Root Mean Square Error (RMSE)\n",
        "<h4>Used to compare regression models.</h4>\n"
      ]
    },
    {
      "cell_type": "code",
      "execution_count": 51,
      "metadata": {
        "id": "-alRkjKwifiD",
        "colab": {
          "base_uri": "https://localhost:8080/"
        },
        "outputId": "113baf54-5372-48b7-cddb-46834e49bb2e"
      },
      "outputs": [
        {
          "output_type": "execute_result",
          "data": {
            "text/plain": [
              "3.361741114144931"
            ]
          },
          "metadata": {},
          "execution_count": 51
        }
      ],
      "source": [
        "RSME_manually = np.sqrt(MSE)\n",
        "RSME_manually"
      ]
    },
    {
      "cell_type": "code",
      "execution_count": 52,
      "metadata": {
        "id": "bvGzEnIRifiE",
        "colab": {
          "base_uri": "https://localhost:8080/"
        },
        "outputId": "36ee5471-5314-4627-e370-851ff4c2e31f"
      },
      "outputs": [
        {
          "output_type": "execute_result",
          "data": {
            "text/plain": [
              "3.361741114144931"
            ]
          },
          "metadata": {},
          "execution_count": 52
        }
      ],
      "source": [
        "RSME = mean_squared_error(y_test, y_pred, squared=False)\n",
        "RSME"
      ]
    },
    {
      "cell_type": "markdown",
      "source": [
        "#R2\n",
        "<h4>Used to measure the accuracy of the predicted model compared to the actual data.</h4>"
      ],
      "metadata": {
        "id": "IJS18accWYZq"
      }
    },
    {
      "cell_type": "code",
      "source": [
        "reg.score(x_test, y_test)"
      ],
      "metadata": {
        "colab": {
          "base_uri": "https://localhost:8080/"
        },
        "id": "11UiTGeqWd0R",
        "outputId": "66e6994c-070c-4b3f-b181-d23fccc7c4c0"
      },
      "execution_count": 53,
      "outputs": [
        {
          "output_type": "execute_result",
          "data": {
            "text/plain": [
              "0.2127503803778158"
            ]
          },
          "metadata": {},
          "execution_count": 53
        }
      ]
    },
    {
      "cell_type": "code",
      "source": [
        "from sklearn.metrics import r2_score\n",
        "r2_score(y_test,y_pred)"
      ],
      "metadata": {
        "colab": {
          "base_uri": "https://localhost:8080/"
        },
        "id": "tZnKdNKYWibH",
        "outputId": "a2fc6886-bf6f-4849-b0f7-d9e96f5166d0"
      },
      "execution_count": 54,
      "outputs": [
        {
          "output_type": "execute_result",
          "data": {
            "text/plain": [
              "0.2127503803778158"
            ]
          },
          "metadata": {},
          "execution_count": 54
        }
      ]
    },
    {
      "cell_type": "markdown",
      "source": [
        "# Results:\n",
        "<h4>Beer consumption is higher on days with higher maximum temperature and less precipitation, that is, hot and dry, in addition to being higher on weekends as well, which was expected.</h4>\n",
        "<h4>The coefficient of determination and the error indicators demonstrate that the prediction made by the model is not satisfactory, since there is a large difference between the predicted and actual data. To obtain a more accurate prediction, it would be necessary to use another type of neural network model.</h4>"
      ],
      "metadata": {
        "id": "l5vynmUTDIUs"
      }
    }
  ]
}